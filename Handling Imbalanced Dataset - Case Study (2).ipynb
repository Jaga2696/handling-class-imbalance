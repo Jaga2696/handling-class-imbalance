{
 "cells": [
  {
   "cell_type": "markdown",
   "metadata": {},
   "source": [
    "# Handling Imbalanced Dataset - Case Study"
   ]
  },
  {
   "cell_type": "markdown",
   "metadata": {},
   "source": [
    "# Contents"
   ]
  },
  {
   "cell_type": "markdown",
   "metadata": {},
   "source": [
    "1. Introduction\n",
    "2. Problem Statement\n",
    "3. Data Understanding\n",
    "4. Exploratory Data Analysis\n",
    "5. Feature Engineering\n",
    "6. Handling Imbalanced Classes\n",
    "7. Accuracy Paradox\n",
    "8. Evaluation Metric\n",
    "9. Conclusion"
   ]
  },
  {
   "cell_type": "markdown",
   "metadata": {},
   "source": [
    "# Introduction"
   ]
  },
  {
   "cell_type": "markdown",
   "metadata": {},
   "source": [
    "In a classification problem most of the times we encounter problem of class imbalance. It is very important to understand what an imbalanced dataset is and how do we handle and evaluate a classification model build on imbalanced dataset. For e.g. You are given a dataset to predict insurance claims. You have built a classification model and achieved an accuracy of ~96%.\n",
    "1. Why shouldn't you be happy with your model performance?\n",
    "2. What can you do about it."
   ]
  },
  {
   "cell_type": "markdown",
   "metadata": {},
   "source": [
    "# Problem Statement"
   ]
  },
  {
   "cell_type": "markdown",
   "metadata": {},
   "source": [
    "One of the largest auto insurance company is facing problem of inaccuracies in car insurance claim predictions. This eventually leads them to raise the cost of insurance of good drivers and reduce it for bad drivers. The company wants you to \n",
    "\n",
    "- Build a model that predicts the probability that a driver will file an insurance claim in coming year"
   ]
  },
  {
   "cell_type": "markdown",
   "metadata": {},
   "source": [
    "# Data Understanding"
   ]
  },
  {
   "cell_type": "markdown",
   "metadata": {},
   "source": [
    "The dataset has close to 600K observations with 59 columns. This include \"id\" and \"target\" column. Therefore 57 features (inputs). Data is annonymized in order to protect the company's trade secrets, but some information about the nature of each varaible. Each row corresponds to a policy holder, and the target columns signifies that a claim was filed.\n",
    "\n",
    "1. Values of -1 indicate that the feature was missing from the observation.\n",
    "2. Target column signifies whether or not a claim was filed for that policy holder.\n",
    "3. Ind is related to individual or driver\n",
    "4. Reg is related to region\n",
    "5. Car is related to car itself\n",
    "6. Calc is a calculated feature\n",
    "7. Feature names include the postfix bin to indicate binary features and cat to indicate categorical features.\n",
    "8. Features without these designations are either continuous or ordinal\n",
    "\n",
    "Okay, lets get started and look at the dataset."
   ]
  },
  {
   "cell_type": "code",
   "execution_count": 1,
   "metadata": {},
   "outputs": [],
   "source": [
    "# Importing the libraries \n",
    "import pandas as pd\n",
    "import numpy as np\n",
    "import matplotlib.pyplot as plt\n",
    "import seaborn as sns"
   ]
  },
  {
   "cell_type": "code",
   "execution_count": 2,
   "metadata": {
    "scrolled": true
   },
   "outputs": [
    {
     "name": "stdout",
     "output_type": "stream",
     "text": [
      "(595212, 59)\n"
     ]
    },
    {
     "data": {
      "text/html": [
       "<div>\n",
       "<style scoped>\n",
       "    .dataframe tbody tr th:only-of-type {\n",
       "        vertical-align: middle;\n",
       "    }\n",
       "\n",
       "    .dataframe tbody tr th {\n",
       "        vertical-align: top;\n",
       "    }\n",
       "\n",
       "    .dataframe thead th {\n",
       "        text-align: right;\n",
       "    }\n",
       "</style>\n",
       "<table border=\"1\" class=\"dataframe\">\n",
       "  <thead>\n",
       "    <tr style=\"text-align: right;\">\n",
       "      <th></th>\n",
       "      <th>id</th>\n",
       "      <th>target</th>\n",
       "      <th>ps_ind_01</th>\n",
       "      <th>ps_ind_02_cat</th>\n",
       "      <th>ps_ind_03</th>\n",
       "      <th>ps_ind_04_cat</th>\n",
       "      <th>ps_ind_05_cat</th>\n",
       "      <th>ps_ind_06_bin</th>\n",
       "      <th>ps_ind_07_bin</th>\n",
       "      <th>ps_ind_08_bin</th>\n",
       "      <th>...</th>\n",
       "      <th>ps_calc_11</th>\n",
       "      <th>ps_calc_12</th>\n",
       "      <th>ps_calc_13</th>\n",
       "      <th>ps_calc_14</th>\n",
       "      <th>ps_calc_15_bin</th>\n",
       "      <th>ps_calc_16_bin</th>\n",
       "      <th>ps_calc_17_bin</th>\n",
       "      <th>ps_calc_18_bin</th>\n",
       "      <th>ps_calc_19_bin</th>\n",
       "      <th>ps_calc_20_bin</th>\n",
       "    </tr>\n",
       "  </thead>\n",
       "  <tbody>\n",
       "    <tr>\n",
       "      <th>0</th>\n",
       "      <td>7</td>\n",
       "      <td>0</td>\n",
       "      <td>2</td>\n",
       "      <td>2</td>\n",
       "      <td>5</td>\n",
       "      <td>1</td>\n",
       "      <td>0</td>\n",
       "      <td>0</td>\n",
       "      <td>1</td>\n",
       "      <td>0</td>\n",
       "      <td>...</td>\n",
       "      <td>9</td>\n",
       "      <td>1</td>\n",
       "      <td>5</td>\n",
       "      <td>8</td>\n",
       "      <td>0</td>\n",
       "      <td>1</td>\n",
       "      <td>1</td>\n",
       "      <td>0</td>\n",
       "      <td>0</td>\n",
       "      <td>1</td>\n",
       "    </tr>\n",
       "    <tr>\n",
       "      <th>1</th>\n",
       "      <td>9</td>\n",
       "      <td>0</td>\n",
       "      <td>1</td>\n",
       "      <td>1</td>\n",
       "      <td>7</td>\n",
       "      <td>0</td>\n",
       "      <td>0</td>\n",
       "      <td>0</td>\n",
       "      <td>0</td>\n",
       "      <td>1</td>\n",
       "      <td>...</td>\n",
       "      <td>3</td>\n",
       "      <td>1</td>\n",
       "      <td>1</td>\n",
       "      <td>9</td>\n",
       "      <td>0</td>\n",
       "      <td>1</td>\n",
       "      <td>1</td>\n",
       "      <td>0</td>\n",
       "      <td>1</td>\n",
       "      <td>0</td>\n",
       "    </tr>\n",
       "    <tr>\n",
       "      <th>2</th>\n",
       "      <td>13</td>\n",
       "      <td>0</td>\n",
       "      <td>5</td>\n",
       "      <td>4</td>\n",
       "      <td>9</td>\n",
       "      <td>1</td>\n",
       "      <td>0</td>\n",
       "      <td>0</td>\n",
       "      <td>0</td>\n",
       "      <td>1</td>\n",
       "      <td>...</td>\n",
       "      <td>4</td>\n",
       "      <td>2</td>\n",
       "      <td>7</td>\n",
       "      <td>7</td>\n",
       "      <td>0</td>\n",
       "      <td>1</td>\n",
       "      <td>1</td>\n",
       "      <td>0</td>\n",
       "      <td>1</td>\n",
       "      <td>0</td>\n",
       "    </tr>\n",
       "    <tr>\n",
       "      <th>3</th>\n",
       "      <td>16</td>\n",
       "      <td>0</td>\n",
       "      <td>0</td>\n",
       "      <td>1</td>\n",
       "      <td>2</td>\n",
       "      <td>0</td>\n",
       "      <td>0</td>\n",
       "      <td>1</td>\n",
       "      <td>0</td>\n",
       "      <td>0</td>\n",
       "      <td>...</td>\n",
       "      <td>2</td>\n",
       "      <td>2</td>\n",
       "      <td>4</td>\n",
       "      <td>9</td>\n",
       "      <td>0</td>\n",
       "      <td>0</td>\n",
       "      <td>0</td>\n",
       "      <td>0</td>\n",
       "      <td>0</td>\n",
       "      <td>0</td>\n",
       "    </tr>\n",
       "    <tr>\n",
       "      <th>4</th>\n",
       "      <td>17</td>\n",
       "      <td>0</td>\n",
       "      <td>0</td>\n",
       "      <td>2</td>\n",
       "      <td>0</td>\n",
       "      <td>1</td>\n",
       "      <td>0</td>\n",
       "      <td>1</td>\n",
       "      <td>0</td>\n",
       "      <td>0</td>\n",
       "      <td>...</td>\n",
       "      <td>3</td>\n",
       "      <td>1</td>\n",
       "      <td>1</td>\n",
       "      <td>3</td>\n",
       "      <td>0</td>\n",
       "      <td>0</td>\n",
       "      <td>0</td>\n",
       "      <td>1</td>\n",
       "      <td>1</td>\n",
       "      <td>0</td>\n",
       "    </tr>\n",
       "  </tbody>\n",
       "</table>\n",
       "<p>5 rows × 59 columns</p>\n",
       "</div>"
      ],
      "text/plain": [
       "   id  target  ps_ind_01  ps_ind_02_cat  ps_ind_03  ps_ind_04_cat  \\\n",
       "0   7       0          2              2          5              1   \n",
       "1   9       0          1              1          7              0   \n",
       "2  13       0          5              4          9              1   \n",
       "3  16       0          0              1          2              0   \n",
       "4  17       0          0              2          0              1   \n",
       "\n",
       "   ps_ind_05_cat  ps_ind_06_bin  ps_ind_07_bin  ps_ind_08_bin  ...  \\\n",
       "0              0              0              1              0  ...   \n",
       "1              0              0              0              1  ...   \n",
       "2              0              0              0              1  ...   \n",
       "3              0              1              0              0  ...   \n",
       "4              0              1              0              0  ...   \n",
       "\n",
       "   ps_calc_11  ps_calc_12  ps_calc_13  ps_calc_14  ps_calc_15_bin  \\\n",
       "0           9           1           5           8               0   \n",
       "1           3           1           1           9               0   \n",
       "2           4           2           7           7               0   \n",
       "3           2           2           4           9               0   \n",
       "4           3           1           1           3               0   \n",
       "\n",
       "   ps_calc_16_bin  ps_calc_17_bin  ps_calc_18_bin  ps_calc_19_bin  \\\n",
       "0               1               1               0               0   \n",
       "1               1               1               0               1   \n",
       "2               1               1               0               1   \n",
       "3               0               0               0               0   \n",
       "4               0               0               1               1   \n",
       "\n",
       "   ps_calc_20_bin  \n",
       "0               1  \n",
       "1               0  \n",
       "2               0  \n",
       "3               0  \n",
       "4               0  \n",
       "\n",
       "[5 rows x 59 columns]"
      ]
     },
     "execution_count": 2,
     "metadata": {},
     "output_type": "execute_result"
    }
   ],
   "source": [
    "# read in data\n",
    "df = pd.read_csv('train.csv')\n",
    "print(df.shape)\n",
    "df.head()"
   ]
  },
  {
   "cell_type": "markdown",
   "metadata": {},
   "source": [
    "We notice that categorical features have integer values. For eg In ps_ind_02_cat we can see that values are 1, 2, 4..\n",
    "Now lets check if the dataset has any duplicates."
   ]
  },
  {
   "cell_type": "code",
   "execution_count": 3,
   "metadata": {},
   "outputs": [
    {
     "data": {
      "text/plain": [
       "(595212, 59)"
      ]
     },
     "execution_count": 3,
     "metadata": {},
     "output_type": "execute_result"
    }
   ],
   "source": [
    "df.drop_duplicates()\n",
    "df.shape"
   ]
  },
  {
   "cell_type": "markdown",
   "metadata": {},
   "source": [
    "No duplicates. Now lets see data types."
   ]
  },
  {
   "cell_type": "code",
   "execution_count": 4,
   "metadata": {},
   "outputs": [
    {
     "name": "stdout",
     "output_type": "stream",
     "text": [
      "<class 'pandas.core.frame.DataFrame'>\n",
      "RangeIndex: 595212 entries, 0 to 595211\n",
      "Data columns (total 59 columns):\n",
      " #   Column          Non-Null Count   Dtype  \n",
      "---  ------          --------------   -----  \n",
      " 0   id              595212 non-null  int64  \n",
      " 1   target          595212 non-null  int64  \n",
      " 2   ps_ind_01       595212 non-null  int64  \n",
      " 3   ps_ind_02_cat   595212 non-null  int64  \n",
      " 4   ps_ind_03       595212 non-null  int64  \n",
      " 5   ps_ind_04_cat   595212 non-null  int64  \n",
      " 6   ps_ind_05_cat   595212 non-null  int64  \n",
      " 7   ps_ind_06_bin   595212 non-null  int64  \n",
      " 8   ps_ind_07_bin   595212 non-null  int64  \n",
      " 9   ps_ind_08_bin   595212 non-null  int64  \n",
      " 10  ps_ind_09_bin   595212 non-null  int64  \n",
      " 11  ps_ind_10_bin   595212 non-null  int64  \n",
      " 12  ps_ind_11_bin   595212 non-null  int64  \n",
      " 13  ps_ind_12_bin   595212 non-null  int64  \n",
      " 14  ps_ind_13_bin   595212 non-null  int64  \n",
      " 15  ps_ind_14       595212 non-null  int64  \n",
      " 16  ps_ind_15       595212 non-null  int64  \n",
      " 17  ps_ind_16_bin   595212 non-null  int64  \n",
      " 18  ps_ind_17_bin   595212 non-null  int64  \n",
      " 19  ps_ind_18_bin   595212 non-null  int64  \n",
      " 20  ps_reg_01       595212 non-null  float64\n",
      " 21  ps_reg_02       595212 non-null  float64\n",
      " 22  ps_reg_03       595212 non-null  float64\n",
      " 23  ps_car_01_cat   595212 non-null  int64  \n",
      " 24  ps_car_02_cat   595212 non-null  int64  \n",
      " 25  ps_car_03_cat   595212 non-null  int64  \n",
      " 26  ps_car_04_cat   595212 non-null  int64  \n",
      " 27  ps_car_05_cat   595212 non-null  int64  \n",
      " 28  ps_car_06_cat   595212 non-null  int64  \n",
      " 29  ps_car_07_cat   595212 non-null  int64  \n",
      " 30  ps_car_08_cat   595212 non-null  int64  \n",
      " 31  ps_car_09_cat   595212 non-null  int64  \n",
      " 32  ps_car_10_cat   595212 non-null  int64  \n",
      " 33  ps_car_11_cat   595212 non-null  int64  \n",
      " 34  ps_car_11       595212 non-null  int64  \n",
      " 35  ps_car_12       595212 non-null  float64\n",
      " 36  ps_car_13       595212 non-null  float64\n",
      " 37  ps_car_14       595212 non-null  float64\n",
      " 38  ps_car_15       595212 non-null  float64\n",
      " 39  ps_calc_01      595212 non-null  float64\n",
      " 40  ps_calc_02      595212 non-null  float64\n",
      " 41  ps_calc_03      595212 non-null  float64\n",
      " 42  ps_calc_04      595212 non-null  int64  \n",
      " 43  ps_calc_05      595212 non-null  int64  \n",
      " 44  ps_calc_06      595212 non-null  int64  \n",
      " 45  ps_calc_07      595212 non-null  int64  \n",
      " 46  ps_calc_08      595212 non-null  int64  \n",
      " 47  ps_calc_09      595212 non-null  int64  \n",
      " 48  ps_calc_10      595212 non-null  int64  \n",
      " 49  ps_calc_11      595212 non-null  int64  \n",
      " 50  ps_calc_12      595212 non-null  int64  \n",
      " 51  ps_calc_13      595212 non-null  int64  \n",
      " 52  ps_calc_14      595212 non-null  int64  \n",
      " 53  ps_calc_15_bin  595212 non-null  int64  \n",
      " 54  ps_calc_16_bin  595212 non-null  int64  \n",
      " 55  ps_calc_17_bin  595212 non-null  int64  \n",
      " 56  ps_calc_18_bin  595212 non-null  int64  \n",
      " 57  ps_calc_19_bin  595212 non-null  int64  \n",
      " 58  ps_calc_20_bin  595212 non-null  int64  \n",
      "dtypes: float64(10), int64(49)\n",
      "memory usage: 267.9 MB\n"
     ]
    }
   ],
   "source": [
    "df.info()"
   ]
  },
  {
   "cell_type": "markdown",
   "metadata": {},
   "source": [
    "No null values are present because null values are replaced by -1. Also, we can see two data types - int and float. Lets see missing value status and treat them."
   ]
  },
  {
   "cell_type": "code",
   "execution_count": 5,
   "metadata": {},
   "outputs": [
    {
     "name": "stdout",
     "output_type": "stream",
     "text": [
      "ps_ind_02_cat has 216 obs (0.04%) missing\n",
      "ps_ind_04_cat has 83 obs (0.01%) missing\n",
      "ps_ind_05_cat has 5809 obs (0.98%) missing\n",
      "ps_reg_03 has 107772 obs (18.11%) missing\n",
      "ps_car_01_cat has 107 obs (0.02%) missing\n",
      "ps_car_02_cat has 5 obs (0.00%) missing\n",
      "ps_car_03_cat has 411231 obs (69.09%) missing\n",
      "ps_car_05_cat has 266551 obs (44.78%) missing\n",
      "ps_car_07_cat has 11489 obs (1.93%) missing\n",
      "ps_car_09_cat has 569 obs (0.10%) missing\n",
      "ps_car_11 has 5 obs (0.00%) missing\n",
      "ps_car_12 has 1 obs (0.00%) missing\n",
      "ps_car_14 has 42620 obs (7.16%) missing\n"
     ]
    }
   ],
   "source": [
    "# finding missing values\n",
    "missing_obs = []\n",
    "\n",
    "for i in df.columns:\n",
    "    nulls = df[df[i] == -1][i].count()\n",
    "    if nulls > 0:\n",
    "        missing_obs.append(i)\n",
    "        nulls_perc = nulls/df.shape[0]\n",
    "        \n",
    "        print('{} has {} obs ({:.2%}) missing'.format(i, nulls, nulls_perc))"
   ]
  },
  {
   "cell_type": "markdown",
   "metadata": {},
   "source": [
    "Observations on missing values: - ps_car_03_cat and ps_car_05_cat have large missing values. Therefore we will drop these variables from the dataset. Other variables we will try to impute it. So lets drop and impute. "
   ]
  },
  {
   "cell_type": "code",
   "execution_count": 6,
   "metadata": {},
   "outputs": [
    {
     "data": {
      "text/plain": [
       "(595212, 57)"
      ]
     },
     "execution_count": 6,
     "metadata": {},
     "output_type": "execute_result"
    }
   ],
   "source": [
    "# dropping columns with high missing values\n",
    "df = df.drop(columns=['ps_car_03_cat', 'ps_car_05_cat'])\n",
    "df.shape"
   ]
  },
  {
   "cell_type": "code",
   "execution_count": 7,
   "metadata": {},
   "outputs": [],
   "source": [
    "# Imputing with the mean or mode\n",
    "from sklearn.impute import SimpleImputer\n",
    "mean_imputation = SimpleImputer(missing_values=-1, strategy='mean')\n",
    "mode_imputation = SimpleImputer(missing_values=-1, strategy='most_frequent')\n",
    "df['ps_reg_03'] = mean_imputation.fit_transform(df[['ps_reg_03']]).ravel()\n",
    "df['ps_car_12'] = mean_imputation.fit_transform(df[['ps_car_12']]).ravel()\n",
    "df['ps_car_14'] = mean_imputation.fit_transform(df[['ps_car_14']]).ravel()\n",
    "df['ps_car_11'] = mode_imputation.fit_transform(df[['ps_car_11']]).ravel()\n",
    "df['ps_ind_02_cat'] = mode_imputation.fit_transform(df[['ps_ind_02_cat']]).ravel()\n",
    "df['ps_ind_04_cat'] = mode_imputation.fit_transform(df[['ps_ind_04_cat']]).ravel()\n",
    "df['ps_ind_05_cat'] = mode_imputation.fit_transform(df[['ps_ind_05_cat']]).ravel()\n",
    "df['ps_car_01_cat'] = mode_imputation.fit_transform(df[['ps_car_01_cat']]).ravel()\n",
    "df['ps_car_02_cat'] = mode_imputation.fit_transform(df[['ps_car_02_cat']]).ravel()\n",
    "df['ps_car_07_cat'] = mode_imputation.fit_transform(df[['ps_car_07_cat']]).ravel()\n",
    "df['ps_car_09_cat'] = mode_imputation.fit_transform(df[['ps_car_09_cat']]).ravel()"
   ]
  },
  {
   "cell_type": "markdown",
   "metadata": {},
   "source": [
    "Cardinality of the categorical variables\n",
    "\n",
    "We need to check whether there are variables with many distinct values. We should handle these variables differently as they would result in many dummy variables."
   ]
  },
  {
   "cell_type": "code",
   "execution_count": 8,
   "metadata": {},
   "outputs": [
    {
     "name": "stdout",
     "output_type": "stream",
     "text": [
      "ps_ind_02_cat has 4 unique values\n",
      "ps_ind_04_cat has 2 unique values\n",
      "ps_ind_05_cat has 7 unique values\n",
      "ps_car_01_cat has 12 unique values\n",
      "ps_car_02_cat has 2 unique values\n",
      "ps_car_04_cat has 10 unique values\n",
      "ps_car_06_cat has 18 unique values\n",
      "ps_car_07_cat has 2 unique values\n",
      "ps_car_08_cat has 2 unique values\n",
      "ps_car_09_cat has 5 unique values\n",
      "ps_car_10_cat has 3 unique values\n",
      "ps_car_11_cat has 104 unique values\n"
     ]
    }
   ],
   "source": [
    "# checking cardinality of categorical vars\n",
    "cols_with_cardinality = ['ps_ind_02_cat','ps_ind_04_cat','ps_ind_05_cat','ps_car_01_cat','ps_car_02_cat','ps_car_04_cat',\n",
    "                         'ps_car_06_cat','ps_car_07_cat','ps_car_08_cat','ps_car_09_cat','ps_car_10_cat','ps_car_11_cat']\n",
    "\n",
    "for i in cols_with_cardinality:\n",
    "    unique_categories = df[i].value_counts().shape[0]\n",
    "    print('{} has {} unique values'.format(i, unique_categories))"
   ]
  },
  {
   "cell_type": "markdown",
   "metadata": {},
   "source": [
    "As we can see ps_car_11_cat has 104 distinct values. Lets try to do some feature engineering and will also see how do we deal with ps_car_11_cat."
   ]
  },
  {
   "cell_type": "markdown",
   "metadata": {},
   "source": [
    "# Exploratory Data Analysis"
   ]
  },
  {
   "cell_type": "code",
   "execution_count": 9,
   "metadata": {},
   "outputs": [
    {
     "data": {
      "text/plain": [
       "(595212, 57)"
      ]
     },
     "execution_count": 9,
     "metadata": {},
     "output_type": "execute_result"
    }
   ],
   "source": [
    "df.shape"
   ]
  },
  {
   "cell_type": "code",
   "execution_count": 10,
   "metadata": {},
   "outputs": [
    {
     "data": {
      "text/plain": [
       "<AxesSubplot: >"
      ]
     },
     "execution_count": 10,
     "metadata": {},
     "output_type": "execute_result"
    },
    {
     "data": {
      "image/png": "[encoded data removed]",
      "text/plain": [
       "<Figure size 1440x1440 with 2 Axes>"
      ]
     },
     "metadata": {
      "needs_background": "light"
     },
     "output_type": "display_data"
    }
   ],
   "source": [
    "# check correlation of continuous vars with target\n",
    "conti_cols = ['ps_reg_01','ps_reg_02','ps_reg_03','ps_car_12','ps_car_13','ps_car_14','ps_car_15','ps_calc_01','ps_calc_02',\n",
    "     'ps_calc_03','target']\n",
    "\n",
    "# Finding out the correlation between the features\n",
    "conti_cols_corr = df[conti_cols].corr()\n",
    "\n",
    "# Plotting the heatmap of correlation between features\n",
    "plt.figure(figsize=(20,20))\n",
    "sns.heatmap(conti_cols_corr, cbar=True, square= True, fmt='.2f', annot=True, annot_kws={'size':15}, cmap='Greens')"
   ]
  },
  {
   "cell_type": "markdown",
   "metadata": {},
   "source": [
    "There are a strong correlations between the variables ps_reg_02 and ps_reg_03, ps_car_12 and ps_car13, ps_car_12 and ps_car14 and ps_car_13 and ps_car15."
   ]
  },
  {
   "cell_type": "code",
   "execution_count": 11,
   "metadata": {},
   "outputs": [
    {
     "data": {
      "text/plain": [
       "<AxesSubplot: >"
      ]
     },
     "execution_count": 11,
     "metadata": {},
     "output_type": "execute_result"
    },
    {
     "data": {
      "image/png": "[encoded data removed]",
      "text/plain": [
       "<Figure size 1440x1440 with 2 Axes>"
      ]
     },
     "metadata": {
      "needs_background": "light"
     },
     "output_type": "display_data"
    }
   ],
   "source": [
    "# check correlation of ordinal vars with target\n",
    "ord_cols = ['ps_ind_01','ps_ind_03','ps_ind_14','ps_ind_15','ps_car_11','ps_calc_04','ps_calc_05','ps_calc_06','ps_calc_07',\n",
    "     'ps_calc_08','ps_calc_09','ps_calc_10','ps_calc_11','ps_calc_12','ps_calc_13','ps_calc_14','target']\n",
    "\n",
    "# Finding out the correlation between the features\n",
    "ord_cols_corr = df[ord_cols].corr()\n",
    "\n",
    "# Plotting the heatmap of correlation between features\n",
    "plt.figure(figsize=(20,20))\n",
    "sns.heatmap(ord_cols_corr, cbar=True, square= True, fmt='.2f', annot=True, annot_kws={'size':15}, cmap='Greens')"
   ]
  },
  {
   "cell_type": "markdown",
   "metadata": {},
   "source": [
    "For the ordinal variables we do not see many correlations. Variables with calc has no correlations."
   ]
  },
  {
   "cell_type": "markdown",
   "metadata": {},
   "source": [
    "# Feature Engineering"
   ]
  },
  {
   "cell_type": "markdown",
   "metadata": {},
   "source": [
    "We will deal with categorial features and do categorical encoding.\n",
    "\n",
    "1. Label encoding\n",
    "2. Frequency encoding\n",
    "3. One-Hot encoding"
   ]
  },
  {
   "cell_type": "markdown",
   "metadata": {},
   "source": [
    "1. Label encoding\n",
    "\n",
    "Label encoding is simply converting each value in a column to a number. We can see that categorical variables in our dataset has numbers. Therefore it might already been converted to label encoding. \n",
    "\n",
    "For e.g. we have '0', '1', '2' representing different classes of some car related concepts like 'FWD', 'RWD', '4WD' for drive types. It is a nice way to represent information that is not in numeric format - since most ML algorthims prefer number over string. \n",
    "\n",
    "This does present a problem, as you can imagine, there isn't necessary a logical order to rank different drive types from 'FF' to '4DW in an ordinal manner i.e. '0','1','2'. Now that we encoding them in such a way, we have actually manually imposed such an ordinal logic which doesn't necessary exist within the observations.\n",
    "\n",
    "Let's apply some tricks present them in a non-ordinal way, here we are going to use \"frequency encoding\" and \"one-hot encoding\""
   ]
  },
  {
   "cell_type": "markdown",
   "metadata": {},
   "source": [
    "2. Frequency encoding"
   ]
  },
  {
   "cell_type": "markdown",
   "metadata": {},
   "source": [
    "The idea behind frequency encoding is to represent the levels within a categorical features with the frequency they are observe in a dataset. One of the reaons of doing this is more frequently observed level often behave in a similar way - but this is not always true."
   ]
  },
  {
   "cell_type": "code",
   "execution_count": 12,
   "metadata": {},
   "outputs": [
    {
     "data": {
      "text/html": [
       "<div>\n",
       "<style scoped>\n",
       "    .dataframe tbody tr th:only-of-type {\n",
       "        vertical-align: middle;\n",
       "    }\n",
       "\n",
       "    .dataframe tbody tr th {\n",
       "        vertical-align: top;\n",
       "    }\n",
       "\n",
       "    .dataframe thead th {\n",
       "        text-align: right;\n",
       "    }\n",
       "</style>\n",
       "<table border=\"1\" class=\"dataframe\">\n",
       "  <thead>\n",
       "    <tr style=\"text-align: right;\">\n",
       "      <th></th>\n",
       "      <th>id</th>\n",
       "      <th>target</th>\n",
       "      <th>ps_ind_01</th>\n",
       "      <th>ps_ind_02_cat</th>\n",
       "      <th>ps_ind_03</th>\n",
       "      <th>ps_ind_04_cat</th>\n",
       "      <th>ps_ind_05_cat</th>\n",
       "      <th>ps_ind_06_bin</th>\n",
       "      <th>ps_ind_07_bin</th>\n",
       "      <th>ps_ind_08_bin</th>\n",
       "      <th>...</th>\n",
       "      <th>ps_calc_12</th>\n",
       "      <th>ps_calc_13</th>\n",
       "      <th>ps_calc_14</th>\n",
       "      <th>ps_calc_15_bin</th>\n",
       "      <th>ps_calc_16_bin</th>\n",
       "      <th>ps_calc_17_bin</th>\n",
       "      <th>ps_calc_18_bin</th>\n",
       "      <th>ps_calc_19_bin</th>\n",
       "      <th>ps_calc_20_bin</th>\n",
       "      <th>ps_ind_02_cat_freq</th>\n",
       "    </tr>\n",
       "  </thead>\n",
       "  <tbody>\n",
       "    <tr>\n",
       "      <th>0</th>\n",
       "      <td>7</td>\n",
       "      <td>0</td>\n",
       "      <td>2</td>\n",
       "      <td>2</td>\n",
       "      <td>5</td>\n",
       "      <td>1</td>\n",
       "      <td>0</td>\n",
       "      <td>0</td>\n",
       "      <td>1</td>\n",
       "      <td>0</td>\n",
       "      <td>...</td>\n",
       "      <td>1</td>\n",
       "      <td>5</td>\n",
       "      <td>8</td>\n",
       "      <td>0</td>\n",
       "      <td>1</td>\n",
       "      <td>1</td>\n",
       "      <td>0</td>\n",
       "      <td>0</td>\n",
       "      <td>1</td>\n",
       "      <td>0.207612</td>\n",
       "    </tr>\n",
       "    <tr>\n",
       "      <th>1</th>\n",
       "      <td>9</td>\n",
       "      <td>0</td>\n",
       "      <td>1</td>\n",
       "      <td>1</td>\n",
       "      <td>7</td>\n",
       "      <td>0</td>\n",
       "      <td>0</td>\n",
       "      <td>0</td>\n",
       "      <td>0</td>\n",
       "      <td>1</td>\n",
       "      <td>...</td>\n",
       "      <td>1</td>\n",
       "      <td>1</td>\n",
       "      <td>9</td>\n",
       "      <td>0</td>\n",
       "      <td>1</td>\n",
       "      <td>1</td>\n",
       "      <td>0</td>\n",
       "      <td>1</td>\n",
       "      <td>0</td>\n",
       "      <td>0.725918</td>\n",
       "    </tr>\n",
       "    <tr>\n",
       "      <th>2</th>\n",
       "      <td>13</td>\n",
       "      <td>0</td>\n",
       "      <td>5</td>\n",
       "      <td>4</td>\n",
       "      <td>9</td>\n",
       "      <td>1</td>\n",
       "      <td>0</td>\n",
       "      <td>0</td>\n",
       "      <td>0</td>\n",
       "      <td>1</td>\n",
       "      <td>...</td>\n",
       "      <td>2</td>\n",
       "      <td>7</td>\n",
       "      <td>7</td>\n",
       "      <td>0</td>\n",
       "      <td>1</td>\n",
       "      <td>1</td>\n",
       "      <td>0</td>\n",
       "      <td>1</td>\n",
       "      <td>0</td>\n",
       "      <td>0.019116</td>\n",
       "    </tr>\n",
       "    <tr>\n",
       "      <th>3</th>\n",
       "      <td>16</td>\n",
       "      <td>0</td>\n",
       "      <td>0</td>\n",
       "      <td>1</td>\n",
       "      <td>2</td>\n",
       "      <td>0</td>\n",
       "      <td>0</td>\n",
       "      <td>1</td>\n",
       "      <td>0</td>\n",
       "      <td>0</td>\n",
       "      <td>...</td>\n",
       "      <td>2</td>\n",
       "      <td>4</td>\n",
       "      <td>9</td>\n",
       "      <td>0</td>\n",
       "      <td>0</td>\n",
       "      <td>0</td>\n",
       "      <td>0</td>\n",
       "      <td>0</td>\n",
       "      <td>0</td>\n",
       "      <td>0.725918</td>\n",
       "    </tr>\n",
       "    <tr>\n",
       "      <th>4</th>\n",
       "      <td>17</td>\n",
       "      <td>0</td>\n",
       "      <td>0</td>\n",
       "      <td>2</td>\n",
       "      <td>0</td>\n",
       "      <td>1</td>\n",
       "      <td>0</td>\n",
       "      <td>1</td>\n",
       "      <td>0</td>\n",
       "      <td>0</td>\n",
       "      <td>...</td>\n",
       "      <td>1</td>\n",
       "      <td>1</td>\n",
       "      <td>3</td>\n",
       "      <td>0</td>\n",
       "      <td>0</td>\n",
       "      <td>0</td>\n",
       "      <td>1</td>\n",
       "      <td>1</td>\n",
       "      <td>0</td>\n",
       "      <td>0.207612</td>\n",
       "    </tr>\n",
       "  </tbody>\n",
       "</table>\n",
       "<p>5 rows × 58 columns</p>\n",
       "</div>"
      ],
      "text/plain": [
       "   id  target  ps_ind_01  ps_ind_02_cat  ps_ind_03  ps_ind_04_cat  \\\n",
       "0   7       0          2              2          5              1   \n",
       "1   9       0          1              1          7              0   \n",
       "2  13       0          5              4          9              1   \n",
       "3  16       0          0              1          2              0   \n",
       "4  17       0          0              2          0              1   \n",
       "\n",
       "   ps_ind_05_cat  ps_ind_06_bin  ps_ind_07_bin  ps_ind_08_bin  ...  \\\n",
       "0              0              0              1              0  ...   \n",
       "1              0              0              0              1  ...   \n",
       "2              0              0              0              1  ...   \n",
       "3              0              1              0              0  ...   \n",
       "4              0              1              0              0  ...   \n",
       "\n",
       "   ps_calc_12  ps_calc_13  ps_calc_14  ps_calc_15_bin  ps_calc_16_bin  \\\n",
       "0           1           5           8               0               1   \n",
       "1           1           1           9               0               1   \n",
       "2           2           7           7               0               1   \n",
       "3           2           4           9               0               0   \n",
       "4           1           1           3               0               0   \n",
       "\n",
       "   ps_calc_17_bin  ps_calc_18_bin  ps_calc_19_bin  ps_calc_20_bin  \\\n",
       "0               1               0               0               1   \n",
       "1               1               0               1               0   \n",
       "2               1               0               1               0   \n",
       "3               0               0               0               0   \n",
       "4               0               1               1               0   \n",
       "\n",
       "   ps_ind_02_cat_freq  \n",
       "0            0.207612  \n",
       "1            0.725918  \n",
       "2            0.019116  \n",
       "3            0.725918  \n",
       "4            0.207612  \n",
       "\n",
       "[5 rows x 58 columns]"
      ]
     },
     "execution_count": 12,
     "metadata": {},
     "output_type": "execute_result"
    }
   ],
   "source": [
    "# frequency encoding\n",
    "cat = ['ps_ind_02_cat','ps_ind_04_cat','ps_ind_05_cat','ps_car_01_cat','ps_car_02_cat','ps_car_04_cat','ps_car_06_cat',\n",
    "    'ps_car_07_cat','ps_car_08_cat','ps_car_09_cat','ps_car_10_cat','ps_car_11_cat']\n",
    "\n",
    "df_freq = df\n",
    "freq_enc = df_freq.groupby('ps_ind_02_cat').size()/len(df_freq)\n",
    "df_freq.loc[:, 'ps_ind_02_cat_freq'] = df_freq['ps_ind_02_cat'].map(freq_enc)\n",
    "df_freq.head()"
   ]
  },
  {
   "cell_type": "markdown",
   "metadata": {},
   "source": [
    "3. One-Hot Encoding\n",
    "\n",
    "In this method, we map each category to a vector that contains 1 and 0 denoting the presence or absence of the feature. The number of vectors depends on the number of categories for features. This method produces a lot of columns that slows down the learning significantly if the number of the category is very high for the feature. Pandas has get_dummies function, which is quite easy to use. "
   ]
  },
  {
   "cell_type": "code",
   "execution_count": 13,
   "metadata": {},
   "outputs": [
    {
     "name": "stdout",
     "output_type": "stream",
     "text": [
      "Before ohe we have 58 features in train\n",
      "After ohe we have 205 features in train\n"
     ]
    }
   ],
   "source": [
    "ohe_cols = ['ps_ind_02_cat','ps_ind_04_cat','ps_ind_05_cat','ps_car_01_cat','ps_car_02_cat','ps_car_04_cat','ps_car_06_cat',\n",
    "    'ps_car_07_cat','ps_car_08_cat','ps_car_09_cat','ps_car_10_cat','ps_car_11_cat']\n",
    "\n",
    "print('Before ohe we have {} features in train'.format(df.shape[1]))\n",
    "df_ohe = pd.get_dummies(df, columns=ohe_cols, drop_first=True)\n",
    "print('After ohe we have {} features in train'.format(df_ohe.shape[1]))"
   ]
  },
  {
   "cell_type": "markdown",
   "metadata": {},
   "source": [
    "Observations on categorical encoding:-\n",
    "\n",
    "1. Curse of Dimensionality: - As we can see that we have lots of new features now. If we try to dig deeper we can understand that we can see that ps_car_11_cat had 104 distinct values which would make the higher number of features. For a feature with 3 levels we might be ok, but for a feature like \"ps_car_11_cat\" are are introducing 100+ column into a original data set with 50 columns. By doing this we more than triple the size of the dataset, and this spells trouble for machine learning due to \"the curse of dimensionality\".\n",
    "\n",
    "\n",
    "2. Dummy Trap: - We drop the first dummy variable as this information can be derived from the other dummy variables generated for the categories of the original variable. If we don't drop it we will have a problem of \"DUMMY TRAP\"."
   ]
  },
  {
   "cell_type": "code",
   "execution_count": 14,
   "metadata": {},
   "outputs": [
    {
     "name": "stdout",
     "output_type": "stream",
     "text": [
      "Before ohe we have 58 features in train\n",
      "After ohe we have 103 features in train\n"
     ]
    }
   ],
   "source": [
    "ohe_cols_new = ['ps_ind_02_cat','ps_ind_04_cat','ps_ind_05_cat','ps_car_01_cat','ps_car_02_cat','ps_car_04_cat','ps_car_06_cat',\n",
    "    'ps_car_07_cat','ps_car_08_cat','ps_car_09_cat','ps_car_10_cat']\n",
    "\n",
    "print('Before ohe we have {} features in train'.format(df.shape[1]))\n",
    "df = pd.get_dummies(df, columns=ohe_cols_new, drop_first=True)\n",
    "print('After ohe we have {} features in train'.format(df.shape[1]))"
   ]
  },
  {
   "cell_type": "code",
   "execution_count": 15,
   "metadata": {},
   "outputs": [
    {
     "data": {
      "text/html": [
       "<div>\n",
       "<style scoped>\n",
       "    .dataframe tbody tr th:only-of-type {\n",
       "        vertical-align: middle;\n",
       "    }\n",
       "\n",
       "    .dataframe tbody tr th {\n",
       "        vertical-align: top;\n",
       "    }\n",
       "\n",
       "    .dataframe thead th {\n",
       "        text-align: right;\n",
       "    }\n",
       "</style>\n",
       "<table border=\"1\" class=\"dataframe\">\n",
       "  <thead>\n",
       "    <tr style=\"text-align: right;\">\n",
       "      <th></th>\n",
       "      <th>id</th>\n",
       "      <th>target</th>\n",
       "      <th>ps_ind_01</th>\n",
       "      <th>ps_ind_03</th>\n",
       "      <th>ps_ind_06_bin</th>\n",
       "      <th>ps_ind_07_bin</th>\n",
       "      <th>ps_ind_08_bin</th>\n",
       "      <th>ps_ind_09_bin</th>\n",
       "      <th>ps_ind_10_bin</th>\n",
       "      <th>ps_ind_11_bin</th>\n",
       "      <th>...</th>\n",
       "      <th>ps_car_06_cat_16</th>\n",
       "      <th>ps_car_06_cat_17</th>\n",
       "      <th>ps_car_07_cat_1</th>\n",
       "      <th>ps_car_08_cat_1</th>\n",
       "      <th>ps_car_09_cat_1</th>\n",
       "      <th>ps_car_09_cat_2</th>\n",
       "      <th>ps_car_09_cat_3</th>\n",
       "      <th>ps_car_09_cat_4</th>\n",
       "      <th>ps_car_10_cat_1</th>\n",
       "      <th>ps_car_10_cat_2</th>\n",
       "    </tr>\n",
       "  </thead>\n",
       "  <tbody>\n",
       "    <tr>\n",
       "      <th>0</th>\n",
       "      <td>7</td>\n",
       "      <td>0</td>\n",
       "      <td>2</td>\n",
       "      <td>5</td>\n",
       "      <td>0</td>\n",
       "      <td>1</td>\n",
       "      <td>0</td>\n",
       "      <td>0</td>\n",
       "      <td>0</td>\n",
       "      <td>0</td>\n",
       "      <td>...</td>\n",
       "      <td>0</td>\n",
       "      <td>0</td>\n",
       "      <td>1</td>\n",
       "      <td>0</td>\n",
       "      <td>0</td>\n",
       "      <td>0</td>\n",
       "      <td>0</td>\n",
       "      <td>0</td>\n",
       "      <td>1</td>\n",
       "      <td>0</td>\n",
       "    </tr>\n",
       "    <tr>\n",
       "      <th>1</th>\n",
       "      <td>9</td>\n",
       "      <td>0</td>\n",
       "      <td>1</td>\n",
       "      <td>7</td>\n",
       "      <td>0</td>\n",
       "      <td>0</td>\n",
       "      <td>1</td>\n",
       "      <td>0</td>\n",
       "      <td>0</td>\n",
       "      <td>0</td>\n",
       "      <td>...</td>\n",
       "      <td>0</td>\n",
       "      <td>0</td>\n",
       "      <td>1</td>\n",
       "      <td>1</td>\n",
       "      <td>0</td>\n",
       "      <td>1</td>\n",
       "      <td>0</td>\n",
       "      <td>0</td>\n",
       "      <td>1</td>\n",
       "      <td>0</td>\n",
       "    </tr>\n",
       "    <tr>\n",
       "      <th>2</th>\n",
       "      <td>13</td>\n",
       "      <td>0</td>\n",
       "      <td>5</td>\n",
       "      <td>9</td>\n",
       "      <td>0</td>\n",
       "      <td>0</td>\n",
       "      <td>1</td>\n",
       "      <td>0</td>\n",
       "      <td>0</td>\n",
       "      <td>0</td>\n",
       "      <td>...</td>\n",
       "      <td>0</td>\n",
       "      <td>0</td>\n",
       "      <td>1</td>\n",
       "      <td>1</td>\n",
       "      <td>0</td>\n",
       "      <td>1</td>\n",
       "      <td>0</td>\n",
       "      <td>0</td>\n",
       "      <td>1</td>\n",
       "      <td>0</td>\n",
       "    </tr>\n",
       "    <tr>\n",
       "      <th>3</th>\n",
       "      <td>16</td>\n",
       "      <td>0</td>\n",
       "      <td>0</td>\n",
       "      <td>2</td>\n",
       "      <td>1</td>\n",
       "      <td>0</td>\n",
       "      <td>0</td>\n",
       "      <td>0</td>\n",
       "      <td>0</td>\n",
       "      <td>0</td>\n",
       "      <td>...</td>\n",
       "      <td>0</td>\n",
       "      <td>0</td>\n",
       "      <td>1</td>\n",
       "      <td>1</td>\n",
       "      <td>0</td>\n",
       "      <td>0</td>\n",
       "      <td>1</td>\n",
       "      <td>0</td>\n",
       "      <td>1</td>\n",
       "      <td>0</td>\n",
       "    </tr>\n",
       "    <tr>\n",
       "      <th>4</th>\n",
       "      <td>17</td>\n",
       "      <td>0</td>\n",
       "      <td>0</td>\n",
       "      <td>0</td>\n",
       "      <td>1</td>\n",
       "      <td>0</td>\n",
       "      <td>0</td>\n",
       "      <td>0</td>\n",
       "      <td>0</td>\n",
       "      <td>0</td>\n",
       "      <td>...</td>\n",
       "      <td>0</td>\n",
       "      <td>0</td>\n",
       "      <td>1</td>\n",
       "      <td>1</td>\n",
       "      <td>0</td>\n",
       "      <td>1</td>\n",
       "      <td>0</td>\n",
       "      <td>0</td>\n",
       "      <td>1</td>\n",
       "      <td>0</td>\n",
       "    </tr>\n",
       "  </tbody>\n",
       "</table>\n",
       "<p>5 rows × 103 columns</p>\n",
       "</div>"
      ],
      "text/plain": [
       "   id  target  ps_ind_01  ps_ind_03  ps_ind_06_bin  ps_ind_07_bin  \\\n",
       "0   7       0          2          5              0              1   \n",
       "1   9       0          1          7              0              0   \n",
       "2  13       0          5          9              0              0   \n",
       "3  16       0          0          2              1              0   \n",
       "4  17       0          0          0              1              0   \n",
       "\n",
       "   ps_ind_08_bin  ps_ind_09_bin  ps_ind_10_bin  ps_ind_11_bin  ...  \\\n",
       "0              0              0              0              0  ...   \n",
       "1              1              0              0              0  ...   \n",
       "2              1              0              0              0  ...   \n",
       "3              0              0              0              0  ...   \n",
       "4              0              0              0              0  ...   \n",
       "\n",
       "   ps_car_06_cat_16  ps_car_06_cat_17  ps_car_07_cat_1  ps_car_08_cat_1  \\\n",
       "0                 0                 0                1                0   \n",
       "1                 0                 0                1                1   \n",
       "2                 0                 0                1                1   \n",
       "3                 0                 0                1                1   \n",
       "4                 0                 0                1                1   \n",
       "\n",
       "   ps_car_09_cat_1  ps_car_09_cat_2  ps_car_09_cat_3  ps_car_09_cat_4  \\\n",
       "0                0                0                0                0   \n",
       "1                0                1                0                0   \n",
       "2                0                1                0                0   \n",
       "3                0                0                1                0   \n",
       "4                0                1                0                0   \n",
       "\n",
       "   ps_car_10_cat_1  ps_car_10_cat_2  \n",
       "0                1                0  \n",
       "1                1                0  \n",
       "2                1                0  \n",
       "3                1                0  \n",
       "4                1                0  \n",
       "\n",
       "[5 rows x 103 columns]"
      ]
     },
     "execution_count": 15,
     "metadata": {},
     "output_type": "execute_result"
    }
   ],
   "source": [
    "df.head()"
   ]
  },
  {
   "cell_type": "markdown",
   "metadata": {},
   "source": [
    "# Feature Selection"
   ]
  },
  {
   "cell_type": "markdown",
   "metadata": {},
   "source": [
    "As we checked correlations and cardinality of categorical variables. We will remove the vars which have no correlations and a variable which has very high cardinality of 104. We will remove ps_car_11_cat as this has 104 distinct categorical values and it will lead to sparse dataset and can arise problem of \"curse of dimensionality\"."
   ]
  },
  {
   "cell_type": "code",
   "execution_count": 16,
   "metadata": {},
   "outputs": [
    {
     "data": {
      "text/plain": [
       "(595212, 81)"
      ]
     },
     "execution_count": 16,
     "metadata": {},
     "output_type": "execute_result"
    }
   ],
   "source": [
    "# removing irrelevant columns\n",
    "cols_to_drop = ['ps_calc_01','ps_calc_02','ps_calc_03','ps_calc_04','ps_calc_05','ps_calc_06','ps_calc_07','ps_calc_08',\n",
    "                'ps_calc_09','ps_calc_10','ps_calc_11','ps_calc_12','ps_calc_13','ps_calc_14','ps_calc_15_bin',\n",
    "                'ps_calc_16_bin','ps_calc_17_bin','ps_calc_18_bin','ps_calc_19_bin','ps_calc_20_bin','ps_ind_02_cat_freq',\n",
    "                'ps_car_11_cat']\n",
    "\n",
    "df.drop(cols_to_drop, inplace=True, axis=1)\n",
    "df.shape"
   ]
  },
  {
   "cell_type": "code",
   "execution_count": 17,
   "metadata": {},
   "outputs": [],
   "source": [
    "# splitting dataset into train and test\n",
    "from sklearn.model_selection import train_test_split\n",
    "y = df.target\n",
    "X = df.drop('target', axis=1)\n",
    "X = X.drop('id', axis=1)\n",
    "\n",
    "X_train, X_test, y_train, y_test = train_test_split(X, y, test_size=0.3, stratify = y, random_state=56)"
   ]
  },
  {
   "cell_type": "code",
   "execution_count": 18,
   "metadata": {},
   "outputs": [
    {
     "name": "stdout",
     "output_type": "stream",
     "text": [
      "('ps_ind_01', 0.04973978575851322)\n",
      "('ps_ind_03', 0.06472954922776282)\n",
      "('ps_ind_06_bin', 0.006540080882820186)\n",
      "('ps_ind_07_bin', 0.006539399722910435)\n",
      "('ps_ind_08_bin', 0.006879244836686676)\n",
      "('ps_ind_09_bin', 0.006605409155049496)\n",
      "('ps_ind_10_bin', 0.00014080634511582925)\n",
      "('ps_ind_11_bin', 0.0003505621577674994)\n",
      "('ps_ind_12_bin', 0.0015465986437305519)\n",
      "('ps_ind_13_bin', 0.00023063684531915492)\n",
      "('ps_ind_14', 0.001953585683972142)\n",
      "('ps_ind_15', 0.06698746699791845)\n",
      "('ps_ind_16_bin', 0.009937911522888011)\n",
      "('ps_ind_17_bin', 0.004292557375256283)\n",
      "('ps_ind_18_bin', 0.008051625558796205)\n",
      "('ps_reg_01', 0.05054590833169503)\n",
      "('ps_reg_02', 0.061184396040451616)\n",
      "('ps_reg_03', 0.10579966843990977)\n",
      "('ps_car_11', 0.02125331862954584)\n",
      "('ps_car_12', 0.03734686171895651)\n",
      "('ps_car_13', 0.11629425659174165)\n",
      "('ps_car_14', 0.07736594704579078)\n",
      "('ps_car_15', 0.05091715880785103)\n",
      "('ps_ind_02_cat_2', 0.012879802386525856)\n",
      "('ps_ind_02_cat_3', 0.006567971034417625)\n",
      "('ps_ind_02_cat_4', 0.0034624711219967364)\n",
      "('ps_ind_04_cat_1', 0.01791582716677113)\n",
      "('ps_ind_05_cat_1', 0.0035292498332567925)\n",
      "('ps_ind_05_cat_2', 0.0029118591641858747)\n",
      "('ps_ind_05_cat_3', 0.003272850401366765)\n",
      "('ps_ind_05_cat_4', 0.005661315767457662)\n",
      "('ps_ind_05_cat_5', 0.0010390140925977728)\n",
      "('ps_ind_05_cat_6', 0.005396014302526639)\n",
      "('ps_car_01_cat_1', 0.0006639270267622386)\n",
      "('ps_car_01_cat_2', 0.0010384654710216636)\n",
      "('ps_car_01_cat_3', 0.0020922777301815004)\n",
      "('ps_car_01_cat_4', 0.004864559474995001)\n",
      "('ps_car_01_cat_5', 0.003984480965125773)\n",
      "('ps_car_01_cat_6', 0.006487336772359012)\n",
      "('ps_car_01_cat_7', 0.009428737454786108)\n",
      "('ps_car_01_cat_8', 0.004139180789676614)\n",
      "('ps_car_01_cat_9', 0.004849782674680259)\n",
      "('ps_car_01_cat_10', 0.007401759070861856)\n",
      "('ps_car_01_cat_11', 0.012042222201933007)\n",
      "('ps_car_02_cat_1', 0.00676387679304406)\n",
      "('ps_car_04_cat_1', 0.004534945771734184)\n",
      "('ps_car_04_cat_2', 0.0024046394888286387)\n",
      "('ps_car_04_cat_3', 0.0003657341206208654)\n",
      "('ps_car_04_cat_4', 0.00011529703835897721)\n",
      "('ps_car_04_cat_5', 0.00032076892824036383)\n",
      "('ps_car_04_cat_6', 0.0004373022238040363)\n",
      "('ps_car_04_cat_7', 0.00023216115771938016)\n",
      "('ps_car_04_cat_8', 0.00266825577991825)\n",
      "('ps_car_04_cat_9', 0.0019550306922726172)\n",
      "('ps_car_06_cat_1', 0.010438705237041934)\n",
      "('ps_car_06_cat_2', 0.000694144198101628)\n",
      "('ps_car_06_cat_3', 0.0024373505143844136)\n",
      "('ps_car_06_cat_4', 0.005095661920815929)\n",
      "('ps_car_06_cat_5', 0.0007181272702973341)\n",
      "('ps_car_06_cat_6', 0.004511129705057244)\n",
      "('ps_car_06_cat_7', 0.003711130956529761)\n",
      "('ps_car_06_cat_8', 0.0005217198978788372)\n",
      "('ps_car_06_cat_9', 0.0033574050637997293)\n",
      "('ps_car_06_cat_10', 0.0048350637675224515)\n",
      "('ps_car_06_cat_11', 0.010792925392177823)\n",
      "('ps_car_06_cat_12', 0.0008245547770631001)\n",
      "('ps_car_06_cat_13', 0.0016752307700201832)\n",
      "('ps_car_06_cat_14', 0.00777904376785481)\n",
      "('ps_car_06_cat_15', 0.0037339720689033096)\n",
      "('ps_car_06_cat_16', 0.0013960472319071021)\n",
      "('ps_car_06_cat_17', 0.0016554187481279186)\n",
      "('ps_car_07_cat_1', 0.006405789529341611)\n",
      "('ps_car_08_cat_1', 0.008438741163637466)\n",
      "('ps_car_09_cat_1', 0.00522279601371212)\n",
      "('ps_car_09_cat_2', 0.014931554812776646)\n",
      "('ps_car_09_cat_3', 0.0028106031373324085)\n",
      "('ps_car_09_cat_4', 0.0014056061743724872)\n",
      "('ps_car_10_cat_1', 0.0018381750343190017)\n",
      "('ps_car_10_cat_2', 0.00010924962854829284)\n"
     ]
    }
   ],
   "source": [
    "# run random forest to get feature importance\n",
    "from sklearn.ensemble import RandomForestClassifier\n",
    "rf = RandomForestClassifier(n_estimators = 25).fit(X_train, y_train)\n",
    "\n",
    "feats = X_train.columns\n",
    "\n",
    "for feature in zip(feats, rf.feature_importances_):\n",
    "    print(feature)"
   ]
  },
  {
   "cell_type": "code",
   "execution_count": 19,
   "metadata": {},
   "outputs": [],
   "source": [
    "cols_for_model = ['ps_ind_01','ps_ind_03','ps_ind_15','ps_reg_01','ps_reg_02','ps_reg_03','ps_car_11','ps_car_12','ps_car_13',\n",
    "                  'ps_car_14','ps_car_15','ps_ind_02_cat_2','ps_ind_04_cat_1','ps_car_01_cat_11','ps_car_06_cat_1',\n",
    "                  'ps_car_06_cat_11','ps_car_09_cat_2','target']"
   ]
  },
  {
   "cell_type": "code",
   "execution_count": 20,
   "metadata": {},
   "outputs": [
    {
     "data": {
      "text/plain": [
       "(595212, 18)"
      ]
     },
     "execution_count": 20,
     "metadata": {},
     "output_type": "execute_result"
    }
   ],
   "source": [
    "df2 = df\n",
    "df = df2[cols_for_model]\n",
    "df.shape"
   ]
  },
  {
   "cell_type": "code",
   "execution_count": 21,
   "metadata": {},
   "outputs": [
    {
     "data": {
      "text/plain": [
       "Index(['ps_ind_01', 'ps_ind_03', 'ps_ind_15', 'ps_reg_01', 'ps_reg_02',\n",
       "       'ps_reg_03', 'ps_car_11', 'ps_car_12', 'ps_car_13', 'ps_car_14',\n",
       "       'ps_car_15', 'ps_ind_02_cat_2', 'ps_ind_04_cat_1', 'ps_car_01_cat_11',\n",
       "       'ps_car_06_cat_1', 'ps_car_06_cat_11', 'ps_car_09_cat_2', 'target'],\n",
       "      dtype='object')"
      ]
     },
     "execution_count": 21,
     "metadata": {},
     "output_type": "execute_result"
    }
   ],
   "source": [
    "df.columns"
   ]
  },
  {
   "cell_type": "markdown",
   "metadata": {},
   "source": [
    "# Handling Imbalanced Dataset"
   ]
  },
  {
   "cell_type": "markdown",
   "metadata": {},
   "source": [
    "Presence of minority class in the dataset.\n",
    "\n",
    "Lets check out our target variable."
   ]
  },
  {
   "cell_type": "code",
   "execution_count": 22,
   "metadata": {},
   "outputs": [
    {
     "name": "stdout",
     "output_type": "stream",
     "text": [
      "0    573518\n",
      "1     21694\n",
      "Name: target, dtype: int64\n"
     ]
    },
    {
     "data": {
      "text/html": [
       "<div>\n",
       "<style scoped>\n",
       "    .dataframe tbody tr th:only-of-type {\n",
       "        vertical-align: middle;\n",
       "    }\n",
       "\n",
       "    .dataframe tbody tr th {\n",
       "        vertical-align: top;\n",
       "    }\n",
       "\n",
       "    .dataframe thead th {\n",
       "        text-align: right;\n",
       "    }\n",
       "</style>\n",
       "<table border=\"1\" class=\"dataframe\">\n",
       "  <thead>\n",
       "    <tr style=\"text-align: right;\">\n",
       "      <th></th>\n",
       "      <th>index</th>\n",
       "      <th>target</th>\n",
       "    </tr>\n",
       "  </thead>\n",
       "  <tbody>\n",
       "    <tr>\n",
       "      <th>0</th>\n",
       "      <td>0</td>\n",
       "      <td>0.963552</td>\n",
       "    </tr>\n",
       "    <tr>\n",
       "      <th>1</th>\n",
       "      <td>1</td>\n",
       "      <td>0.036448</td>\n",
       "    </tr>\n",
       "  </tbody>\n",
       "</table>\n",
       "</div>"
      ],
      "text/plain": [
       "   index    target\n",
       "0      0  0.963552\n",
       "1      1  0.036448"
      ]
     },
     "execution_count": 22,
     "metadata": {},
     "output_type": "execute_result"
    }
   ],
   "source": [
    "print(df.target.value_counts())\n",
    "df.target.value_counts(normalize = True).reset_index()"
   ]
  },
  {
   "cell_type": "code",
   "execution_count": 23,
   "metadata": {},
   "outputs": [
    {
     "name": "stderr",
     "output_type": "stream",
     "text": [
      "C:\\Users\\aruns\\anaconda3\\lib\\site-packages\\seaborn\\_decorators.py:36: FutureWarning: Pass the following variable as a keyword arg: x. From version 0.12, the only valid positional argument will be `data`, and passing other arguments without an explicit keyword will result in an error or misinterpretation.\n",
      "  warnings.warn(\n"
     ]
    },
    {
     "data": {
      "text/plain": [
       "Text(0.5, 1.0, 'Class Distributions \\n (0: No Claim || 1: Claim)')"
      ]
     },
     "execution_count": 23,
     "metadata": {},
     "output_type": "execute_result"
    },
    {
     "data": {
      "image/png": "[encoded data removed]",
      "text/plain": [
       "<Figure size 432x288 with 1 Axes>"
      ]
     },
     "metadata": {
      "needs_background": "light"
     },
     "output_type": "display_data"
    }
   ],
   "source": [
    "colors = [\"#0101DF\", \"#DF0101\"]\n",
    "\n",
    "sns.countplot('target', data=df, palette=colors)\n",
    "plt.title('Class Distributions \\n (0: No Claim || 1: Claim)', fontsize=14)"
   ]
  },
  {
   "cell_type": "markdown",
   "metadata": {},
   "source": [
    "We can see that claims that have been filed is only 3.6%. Therefore this is highly imbalanced.\n",
    "Why is it important to handle imbalanced classes. "
   ]
  },
  {
   "cell_type": "markdown",
   "metadata": {},
   "source": [
    "Challenges related to imbalanced dataset\n",
    "1. Biased predictions\n",
    "2. Misleading accuracy"
   ]
  },
  {
   "cell_type": "markdown",
   "metadata": {},
   "source": [
    "# How do we handle imbalanced class"
   ]
  },
  {
   "cell_type": "markdown",
   "metadata": {},
   "source": [
    "Since we understand now that imbalanced class has to be taken care then next question is HOW?"
   ]
  },
  {
   "cell_type": "markdown",
   "metadata": {},
   "source": [
    "We can handle imbalanced classes by balancing the classes by increasing minority or decreasing majority.\n",
    "\n",
    "We can do that by following few techniques\n",
    "1. Random Under-Sampling\n",
    "2. Random Over-Sampling\n",
    "3. SMOTE - Synthetic Minority Oversampling Technique\n",
    "4. ADASYN - Adaptive Synthetic Sampling Method\n",
    "5. SMOTETomek - Over-sampling followed by under-sampling"
   ]
  },
  {
   "cell_type": "markdown",
   "metadata": {},
   "source": [
    "# When to Use resampling methods\n",
    "# -- Use resampling methods on your training set, never on your test set!"
   ]
  },
  {
   "cell_type": "code",
   "execution_count": 24,
   "metadata": {},
   "outputs": [],
   "source": [
    "# Create Train and Test Sets\n",
    "from sklearn.model_selection import train_test_split\n",
    "y = df.target\n",
    "X = df.drop('target', axis=1)\n",
    "\n",
    "X_train, X_test, y_train, y_test = train_test_split(X, y, test_size=0.3, stratify = y, random_state=56)"
   ]
  },
  {
   "cell_type": "code",
   "execution_count": 25,
   "metadata": {},
   "outputs": [
    {
     "name": "stdout",
     "output_type": "stream",
     "text": [
      "0    401462\n",
      "1     15186\n",
      "Name: target, dtype: int64\n"
     ]
    },
    {
     "data": {
      "text/html": [
       "<div>\n",
       "<style scoped>\n",
       "    .dataframe tbody tr th:only-of-type {\n",
       "        vertical-align: middle;\n",
       "    }\n",
       "\n",
       "    .dataframe tbody tr th {\n",
       "        vertical-align: top;\n",
       "    }\n",
       "\n",
       "    .dataframe thead th {\n",
       "        text-align: right;\n",
       "    }\n",
       "</style>\n",
       "<table border=\"1\" class=\"dataframe\">\n",
       "  <thead>\n",
       "    <tr style=\"text-align: right;\">\n",
       "      <th></th>\n",
       "      <th>index</th>\n",
       "      <th>target</th>\n",
       "    </tr>\n",
       "  </thead>\n",
       "  <tbody>\n",
       "    <tr>\n",
       "      <th>0</th>\n",
       "      <td>0</td>\n",
       "      <td>0.963552</td>\n",
       "    </tr>\n",
       "    <tr>\n",
       "      <th>1</th>\n",
       "      <td>1</td>\n",
       "      <td>0.036448</td>\n",
       "    </tr>\n",
       "  </tbody>\n",
       "</table>\n",
       "</div>"
      ],
      "text/plain": [
       "   index    target\n",
       "0      0  0.963552\n",
       "1      1  0.036448"
      ]
     },
     "execution_count": 25,
     "metadata": {},
     "output_type": "execute_result"
    }
   ],
   "source": [
    "print(y_train.value_counts())\n",
    "y_train.value_counts(normalize = True).reset_index()"
   ]
  },
  {
   "cell_type": "code",
   "execution_count": 26,
   "metadata": {},
   "outputs": [
    {
     "name": "stdout",
     "output_type": "stream",
     "text": [
      "0    172056\n",
      "1      6508\n",
      "Name: target, dtype: int64\n"
     ]
    },
    {
     "data": {
      "text/html": [
       "<div>\n",
       "<style scoped>\n",
       "    .dataframe tbody tr th:only-of-type {\n",
       "        vertical-align: middle;\n",
       "    }\n",
       "\n",
       "    .dataframe tbody tr th {\n",
       "        vertical-align: top;\n",
       "    }\n",
       "\n",
       "    .dataframe thead th {\n",
       "        text-align: right;\n",
       "    }\n",
       "</style>\n",
       "<table border=\"1\" class=\"dataframe\">\n",
       "  <thead>\n",
       "    <tr style=\"text-align: right;\">\n",
       "      <th></th>\n",
       "      <th>index</th>\n",
       "      <th>target</th>\n",
       "    </tr>\n",
       "  </thead>\n",
       "  <tbody>\n",
       "    <tr>\n",
       "      <th>0</th>\n",
       "      <td>0</td>\n",
       "      <td>0.963554</td>\n",
       "    </tr>\n",
       "    <tr>\n",
       "      <th>1</th>\n",
       "      <td>1</td>\n",
       "      <td>0.036446</td>\n",
       "    </tr>\n",
       "  </tbody>\n",
       "</table>\n",
       "</div>"
      ],
      "text/plain": [
       "   index    target\n",
       "0      0  0.963554\n",
       "1      1  0.036446"
      ]
     },
     "execution_count": 26,
     "metadata": {},
     "output_type": "execute_result"
    }
   ],
   "source": [
    "print(y_test.value_counts())\n",
    "y_test.value_counts(normalize = True).reset_index()"
   ]
  },
  {
   "cell_type": "code",
   "execution_count": 27,
   "metadata": {},
   "outputs": [],
   "source": [
    "import warnings\n",
    "warnings.filterwarnings(\"ignore\")"
   ]
  },
  {
   "cell_type": "markdown",
   "metadata": {},
   "source": [
    "# Accuracy Paradox"
   ]
  },
  {
   "cell_type": "markdown",
   "metadata": {},
   "source": [
    "Accuracy paradox talks about a situation where even you if you don't build a model then also your accuracy would be really high. Lets take our dataset and understand this - So we have 96% of cases where claims were not filed.\n",
    "\n",
    "Now try to create a confusion matrix and add zeroes to predicted classes. Therefore, we have only actual numbers. Now try to calculate accuracy metric. You will still find that you have an accuracy of 96%. Lets see if we face this problem with any of our model."
   ]
  },
  {
   "cell_type": "markdown",
   "metadata": {},
   "source": [
    "# Evaluation Metric"
   ]
  },
  {
   "cell_type": "raw",
   "metadata": {},
   "source": [
    "                                          Predicted\n",
    "                         Negative                       Positive\n",
    "\n",
    "Actual Negative     True Negative (TN)                False Positive (FP)  \n",
    "       Postive      False Negative (FN)               True Positive (TP)"
   ]
  },
  {
   "cell_type": "markdown",
   "metadata": {},
   "source": [
    "1. Accuracy =  TN+TP / TN+FP+FN+TP\n",
    "\n",
    "\n",
    "2. Precision = TP / TP+FP\n",
    "\n",
    "\n",
    "3. Recall = TP / TP+FN\n",
    "\n",
    "\n",
    "4. F1 Score = 2 x (precision x recall) / (precision + recall)"
   ]
  },
  {
   "cell_type": "markdown",
   "metadata": {},
   "source": [
    "In this problem we will use recall as evaluation metric because we would like to capture the performace where we will be rightly predicting positive classes."
   ]
  },
  {
   "cell_type": "code",
   "execution_count": 28,
   "metadata": {},
   "outputs": [],
   "source": [
    "# Logistic Regression\n",
    "from collections import Counter\n",
    "from sklearn.linear_model import LogisticRegression\n",
    "from sklearn.metrics import precision_score, recall_score, confusion_matrix, classification_report, accuracy_score, f1_score"
   ]
  },
  {
   "cell_type": "code",
   "execution_count": 29,
   "metadata": {},
   "outputs": [
    {
     "data": {
      "text/plain": [
       "LogisticRegression()"
      ]
     },
     "execution_count": 29,
     "metadata": {},
     "output_type": "execute_result"
    }
   ],
   "source": [
    "lreg = LogisticRegression()\n",
    "lreg.fit(X_train, y_train)"
   ]
  },
  {
   "cell_type": "code",
   "execution_count": 30,
   "metadata": {},
   "outputs": [],
   "source": [
    "y_pred = lreg.predict(X_test)"
   ]
  },
  {
   "cell_type": "code",
   "execution_count": 31,
   "metadata": {},
   "outputs": [
    {
     "name": "stdout",
     "output_type": "stream",
     "text": [
      "Accuracy:  0.9635536838332475\n",
      "F1 score:  0.0\n",
      "Recall:  0.0\n",
      "Precision:  0.0\n",
      "\n",
      " clasification report:\n",
      "               precision    recall  f1-score   support\n",
      "\n",
      "           0       0.96      1.00      0.98    172056\n",
      "           1       0.00      0.00      0.00      6508\n",
      "\n",
      "    accuracy                           0.96    178564\n",
      "   macro avg       0.48      0.50      0.49    178564\n",
      "weighted avg       0.93      0.96      0.95    178564\n",
      "\n",
      "\n",
      " confussion matrix:\n",
      " [[172056      0]\n",
      " [  6508      0]]\n"
     ]
    }
   ],
   "source": [
    "print ('Accuracy: ', accuracy_score(y_test, y_pred))\n",
    "print ('F1 score: ', f1_score(y_test, y_pred))\n",
    "print ('Recall: ', recall_score(y_test, y_pred))\n",
    "print ('Precision: ', precision_score(y_test, y_pred))\n",
    "print ('\\n clasification report:\\n', classification_report(y_test,y_pred))\n",
    "print ('\\n confussion matrix:\\n',confusion_matrix(y_test, y_pred))"
   ]
  },
  {
   "cell_type": "markdown",
   "metadata": {},
   "source": [
    "Random Under-Sampling\n",
    "\n",
    "1. Randomly remove majority class observations\n",
    "2. Help balance the dataset\n",
    "3. Discarded observations could have important information\n",
    "4. May lead to bias"
   ]
  },
  {
   "cell_type": "code",
   "execution_count": 32,
   "metadata": {},
   "outputs": [
    {
     "ename": "ModuleNotFoundError",
     "evalue": "No module named 'imblearn'",
     "output_type": "error",
     "traceback": [
      "\u001b[1;31m---------------------------------------------------------------------------\u001b[0m",
      "\u001b[1;31mModuleNotFoundError\u001b[0m                       Traceback (most recent call last)",
      "\u001b[1;32m~\\AppData\\Local\\Temp/ipykernel_16516/4209340973.py\u001b[0m in \u001b[0;36m<module>\u001b[1;34m\u001b[0m\n\u001b[0;32m      1\u001b[0m \u001b[1;31m# Random Undersampling\u001b[0m\u001b[1;33m\u001b[0m\u001b[1;33m\u001b[0m\u001b[0m\n\u001b[1;32m----> 2\u001b[1;33m \u001b[1;32mfrom\u001b[0m \u001b[0mimblearn\u001b[0m\u001b[1;33m.\u001b[0m\u001b[0munder_sampling\u001b[0m \u001b[1;32mimport\u001b[0m \u001b[0mRandomUnderSampler\u001b[0m\u001b[1;33m\u001b[0m\u001b[1;33m\u001b[0m\u001b[0m\n\u001b[0m\u001b[0;32m      3\u001b[0m \u001b[0munder_sample\u001b[0m \u001b[1;33m=\u001b[0m \u001b[0mRandomUnderSampler\u001b[0m\u001b[1;33m(\u001b[0m\u001b[0mrandom_state\u001b[0m \u001b[1;33m=\u001b[0m \u001b[1;36m5\u001b[0m\u001b[1;33m)\u001b[0m\u001b[1;33m\u001b[0m\u001b[1;33m\u001b[0m\u001b[0m\n\u001b[0;32m      4\u001b[0m \u001b[0mX_resampled_us\u001b[0m\u001b[1;33m,\u001b[0m \u001b[0my_resampled_us\u001b[0m \u001b[1;33m=\u001b[0m \u001b[0munder_sample\u001b[0m\u001b[1;33m.\u001b[0m\u001b[0mfit_resample\u001b[0m\u001b[1;33m(\u001b[0m\u001b[0mX_train\u001b[0m\u001b[1;33m,\u001b[0m \u001b[0my_train\u001b[0m\u001b[1;33m)\u001b[0m\u001b[1;33m\u001b[0m\u001b[1;33m\u001b[0m\u001b[0m\n\u001b[0;32m      5\u001b[0m \u001b[0mlen\u001b[0m\u001b[1;33m(\u001b[0m\u001b[0mX_resampled_us\u001b[0m\u001b[1;33m)\u001b[0m\u001b[1;33m\u001b[0m\u001b[1;33m\u001b[0m\u001b[0m\n",
      "\u001b[1;31mModuleNotFoundError\u001b[0m: No module named 'imblearn'"
     ]
    }
   ],
   "source": [
    "# Random Undersampling\n",
    "from imblearn.under_sampling import RandomUnderSampler\n",
    "under_sample = RandomUnderSampler(random_state = 5)\n",
    "X_resampled_us, y_resampled_us = under_sample.fit_resample(X_train, y_train)\n",
    "len(X_resampled_us)"
   ]
  },
  {
   "cell_type": "code",
   "execution_count": null,
   "metadata": {},
   "outputs": [],
   "source": [
    "print(sorted(Counter(y_resampled_us).items()))"
   ]
  },
  {
   "cell_type": "code",
   "execution_count": null,
   "metadata": {},
   "outputs": [],
   "source": [
    "lreg_us = LogisticRegression()\n",
    "lreg_us.fit(X_resampled_us, y_resampled_us)\n",
    "\n",
    "y_pred_us = lreg_us.predict(X_test)"
   ]
  },
  {
   "cell_type": "code",
   "execution_count": null,
   "metadata": {},
   "outputs": [],
   "source": [
    "print ('Accuracy: ', accuracy_score(y_test, y_pred_us))\n",
    "print ('F1 score: ', f1_score(y_test, y_pred_us))\n",
    "print ('Recall: ', recall_score(y_test, y_pred_us))\n",
    "print ('Precision: ', precision_score(y_test, y_pred_us))\n",
    "print ('\\n clasification report:\\n', classification_report(y_test,y_pred_us))\n",
    "print ('\\n confussion matrix:\\n',confusion_matrix(y_test, y_pred_us))"
   ]
  },
  {
   "cell_type": "markdown",
   "metadata": {},
   "source": [
    "Tomek Links\n",
    "\n",
    "\n",
    "1. Tomke link is a heuristic undersampling technique based on a distance measure. \n",
    "2. Tomek link is established based on a distance between instances from two different classes which are further used for removing majority class instance."
   ]
  },
  {
   "cell_type": "code",
   "execution_count": null,
   "metadata": {},
   "outputs": [],
   "source": [
    "# Tomek Links\n",
    "from imblearn.under_sampling import TomekLinks\n",
    "tomek_sample = TomekLinks(sampling_strategy='majority')\n",
    "X_resampled_tomek, y_resampled_tomek = tomek_sample.fit_resample(X_train, y_train)\n",
    "len(X_resampled_tomek)"
   ]
  },
  {
   "cell_type": "code",
   "execution_count": null,
   "metadata": {},
   "outputs": [],
   "source": [
    "print(sorted(Counter(y_resampled_tomek).items()))"
   ]
  },
  {
   "cell_type": "code",
   "execution_count": null,
   "metadata": {},
   "outputs": [],
   "source": [
    "lreg_tomek = LogisticRegression()\n",
    "lreg_tomek.fit(X_resampled_tomek, y_resampled_tomek)\n",
    "\n",
    "y_pred_tomek = lreg_tomek.predict(X_test)"
   ]
  },
  {
   "cell_type": "code",
   "execution_count": null,
   "metadata": {},
   "outputs": [],
   "source": [
    "print ('Accuracy: ', accuracy_score(y_test, y_pred_tomek))\n",
    "print ('F1 score: ', f1_score(y_test, y_pred_tomek))\n",
    "print ('Recall: ', recall_score(y_test, y_pred_tomek))\n",
    "print ('Precision: ', precision_score(y_test, y_pred_tomek))\n",
    "print ('\\n clasification report:\\n', classification_report(y_test,y_pred_tomek))\n",
    "print ('\\n confussion matrix:\\n',confusion_matrix(y_test, y_pred_tomek))"
   ]
  },
  {
   "cell_type": "markdown",
   "metadata": {},
   "source": [
    "Random Over-Sampling\n",
    "\n",
    "1. Randomly add more minority observations by replication\n",
    "2. No information loss\n",
    "3. Prone to overfitting due to copying same information"
   ]
  },
  {
   "cell_type": "code",
   "execution_count": null,
   "metadata": {},
   "outputs": [],
   "source": [
    "# Random OverSampling\n",
    "from imblearn.over_sampling import RandomOverSampler\n",
    "over_sample = RandomOverSampler(sampling_strategy = 1)\n",
    "X_resampled_os, y_resampled_os = over_sample.fit_resample(X_train, y_train)\n",
    "len(X_resampled_os)"
   ]
  },
  {
   "cell_type": "code",
   "execution_count": null,
   "metadata": {},
   "outputs": [],
   "source": [
    "print(sorted(Counter(y_resampled_os).items()))"
   ]
  },
  {
   "cell_type": "code",
   "execution_count": null,
   "metadata": {},
   "outputs": [],
   "source": [
    "lreg_os = LogisticRegression()\n",
    "lreg_os.fit(X_resampled_os, y_resampled_os)\n",
    "\n",
    "y_pred_os = lreg_os.predict(X_test)"
   ]
  },
  {
   "cell_type": "code",
   "execution_count": null,
   "metadata": {},
   "outputs": [],
   "source": [
    "print ('Accuracy: ', accuracy_score(y_test, y_pred_os))\n",
    "print ('F1 score: ', f1_score(y_test, y_pred_os))\n",
    "print ('Recall: ', recall_score(y_test, y_pred_os))\n",
    "print ('Precision: ', precision_score(y_test, y_pred_os))\n",
    "print ('\\n clasification report:\\n', classification_report(y_test,y_pred_os))\n",
    "print ('\\n confussion matrix:\\n',confusion_matrix(y_test, y_pred_os))"
   ]
  },
  {
   "cell_type": "markdown",
   "metadata": {},
   "source": [
    "SMOTE - Synthetic Minority Oversampling Technique\n",
    "Creates new \"Synthetic\" observations"
   ]
  },
  {
   "cell_type": "markdown",
   "metadata": {},
   "source": [
    "Process: - \n",
    "1. Identify the feature vector and its nearest neighbour\n",
    "2. Take the difference between the two\n",
    "3. Multiply the difference with a random number between 0 and 1\n",
    "4. Identify a new point on the line segment by adding the random number to feature vector\n",
    "5. Repeat the process for identified feature vectors"
   ]
  },
  {
   "attachments": {
    "image.png": {
     "image/png": "[encoded data removed]"
    }
   },
   "cell_type": "markdown",
   "metadata": {},
   "source": [
    "![image.png](attachment:image.png)"
   ]
  },
  {
   "cell_type": "code",
   "execution_count": null,
   "metadata": {},
   "outputs": [],
   "source": [
    "# SMOTE\n",
    "from imblearn.over_sampling import SMOTE\n",
    "smt = SMOTE(random_state=45, k_neighbors=5)\n",
    "X_resampled_smt, y_resampled_smt = smt.fit_resample(X_train, y_train)\n",
    "len(X_resampled_smt)"
   ]
  },
  {
   "cell_type": "code",
   "execution_count": null,
   "metadata": {},
   "outputs": [],
   "source": [
    "print(sorted(Counter(y_resampled_smt).items()))"
   ]
  },
  {
   "cell_type": "code",
   "execution_count": null,
   "metadata": {},
   "outputs": [],
   "source": [
    "lreg_smt = LogisticRegression()\n",
    "lreg_smt.fit(X_resampled_smt, y_resampled_smt)\n",
    "\n",
    "y_pred_smt = lreg_smt.predict(X_test)"
   ]
  },
  {
   "cell_type": "code",
   "execution_count": null,
   "metadata": {},
   "outputs": [],
   "source": [
    "print ('Accuracy: ', accuracy_score(y_test, y_pred_smt))\n",
    "print ('F1 score: ', f1_score(y_test, y_pred_smt))\n",
    "print ('Recall: ', recall_score(y_test, y_pred_smt))\n",
    "print ('Precision: ', precision_score(y_test, y_pred_smt))\n",
    "print ('\\n clasification report:\\n', classification_report(y_test,y_pred_smt))\n",
    "print ('\\n confussion matrix:\\n',confusion_matrix(y_test, y_pred_smt))"
   ]
  },
  {
   "cell_type": "markdown",
   "metadata": {},
   "source": [
    "ADASYN\n",
    "\n",
    "1. In ADASYN, the minority examples are generated based on their density distribution.\n",
    "2. More synthetic data are generated from minority class samples that are harder to learn as compared with those minority samples that are easier to learn."
   ]
  },
  {
   "cell_type": "code",
   "execution_count": null,
   "metadata": {},
   "outputs": [],
   "source": [
    "# ADASYN\n",
    "from imblearn.over_sampling import ADASYN\n",
    "ada = ADASYN(random_state=45, n_neighbors=5)\n",
    "X_resampled_ada, y_resampled_ada = ada.fit_resample(X_train, y_train)\n",
    "len(X_resampled_ada)"
   ]
  },
  {
   "cell_type": "code",
   "execution_count": null,
   "metadata": {},
   "outputs": [],
   "source": [
    "print(sorted(Counter(y_resampled_ada).items()))"
   ]
  },
  {
   "cell_type": "code",
   "execution_count": null,
   "metadata": {},
   "outputs": [],
   "source": [
    "lreg_ada = LogisticRegression()\n",
    "lreg_ada.fit(X_resampled_ada, y_resampled_ada)\n",
    "\n",
    "y_pred_ada = lreg_ada.predict(X_test)"
   ]
  },
  {
   "cell_type": "code",
   "execution_count": null,
   "metadata": {},
   "outputs": [],
   "source": [
    "print ('Accuracy: ', accuracy_score(y_test, y_pred_ada))\n",
    "print ('F1 score: ', f1_score(y_test, y_pred_ada))\n",
    "print ('Recall: ', recall_score(y_test, y_pred_ada))\n",
    "print ('Precision: ', precision_score(y_test, y_pred_ada))\n",
    "print ('\\n clasification report:\\n', classification_report(y_test,y_pred_ada))\n",
    "print ('\\n confussion matrix:\\n',confusion_matrix(y_test, y_pred_ada))"
   ]
  },
  {
   "cell_type": "markdown",
   "metadata": {},
   "source": [
    "Combining Oversampling and Undersampling\n",
    "\n",
    "1. Tomek links can be used as an under-sampling method or as a data cleaning method.\n",
    "2. Tomek links to the over-sampled training set as a data cleaning method. Thus, instead of removing only the majority class examples that from Tomek links, examples from both classes are removed."
   ]
  },
  {
   "cell_type": "code",
   "execution_count": null,
   "metadata": {},
   "outputs": [],
   "source": [
    "# SMOTE+TOMEK\n",
    "from imblearn.combine import SMOTETomek\n",
    "smt_tmk = SMOTETomek(random_state=45)\n",
    "X_resampled_smt_tmk, y_resampled_smt_tmk = smt_tmk.fit_resample(X_train, y_train)\n",
    "len(X_resampled_smt_tmk)"
   ]
  },
  {
   "cell_type": "code",
   "execution_count": null,
   "metadata": {},
   "outputs": [],
   "source": [
    "print(sorted(Counter(y_resampled_smt_tmk).items()))"
   ]
  },
  {
   "cell_type": "code",
   "execution_count": null,
   "metadata": {},
   "outputs": [],
   "source": [
    "lreg_smt_tmk = LogisticRegression()\n",
    "lreg_smt_tmk.fit(X_resampled_smt_tmk, y_resampled_smt_tmk)\n",
    "\n",
    "y_pred_smt_tmk = lreg_smt_tmk.predict(X_test)"
   ]
  },
  {
   "cell_type": "code",
   "execution_count": null,
   "metadata": {},
   "outputs": [],
   "source": [
    "print ('Accuracy: ', accuracy_score(y_test, y_pred_smt_tmk))\n",
    "print ('F1 score: ', f1_score(y_test, y_pred_smt_tmk))\n",
    "print ('Recall: ', recall_score(y_test, y_pred_smt_tmk))\n",
    "print ('Precision: ', precision_score(y_test, y_pred_smt_tmk))\n",
    "print ('\\n clasification report:\\n', classification_report(y_test,y_pred_smt_tmk))\n",
    "print ('\\n confussion matrix:\\n',confusion_matrix(y_test, y_pred_smt_tmk))"
   ]
  },
  {
   "cell_type": "markdown",
   "metadata": {},
   "source": [
    "# Decision Trees"
   ]
  },
  {
   "cell_type": "code",
   "execution_count": null,
   "metadata": {},
   "outputs": [],
   "source": [
    "# Decision Trees - Base\n",
    "from sklearn.tree import DecisionTreeClassifier\n",
    "dtc = DecisionTreeClassifier(random_state=0)\n",
    "dtc.fit(X_train, y_train)\n",
    "\n",
    "y_pred_dtc = dtc.predict(X_test)"
   ]
  },
  {
   "cell_type": "code",
   "execution_count": null,
   "metadata": {},
   "outputs": [],
   "source": [
    "print ('Accuracy: ', accuracy_score(y_test, y_pred_dtc))\n",
    "print ('F1 score: ', f1_score(y_test, y_pred_dtc))\n",
    "print ('Recall: ', recall_score(y_test, y_pred_dtc))\n",
    "print ('Precision: ', precision_score(y_test, y_pred_dtc))\n",
    "print ('\\n clasification report:\\n', classification_report(y_test,y_pred_dtc))\n",
    "print ('\\n confussion matrix:\\n',confusion_matrix(y_test, y_pred_dtc))"
   ]
  },
  {
   "cell_type": "code",
   "execution_count": null,
   "metadata": {},
   "outputs": [],
   "source": [
    "# Decision Trees - Random UnderSampling\n",
    "from sklearn.tree import DecisionTreeClassifier\n",
    "dtc_us = DecisionTreeClassifier(random_state=0)\n",
    "dtc_us.fit(X_resampled_us, y_resampled_us)\n",
    "\n",
    "y_pred_dtc_us = dtc_us.predict(X_test)"
   ]
  },
  {
   "cell_type": "code",
   "execution_count": null,
   "metadata": {},
   "outputs": [],
   "source": [
    "print ('Accuracy: ', accuracy_score(y_test, y_pred_dtc_us))\n",
    "print ('F1 score: ', f1_score(y_test, y_pred_dtc_us))\n",
    "print ('Recall: ', recall_score(y_test, y_pred_dtc_us))\n",
    "print ('Precision: ', precision_score(y_test, y_pred_dtc_us))\n",
    "print ('\\n clasification report:\\n', classification_report(y_test,y_pred_dtc_us))\n",
    "print ('\\n confussion matrix:\\n',confusion_matrix(y_test, y_pred_dtc_us))"
   ]
  },
  {
   "cell_type": "code",
   "execution_count": null,
   "metadata": {},
   "outputs": [],
   "source": [
    "# Decision Trees - Tomek Links\n",
    "from sklearn.tree import DecisionTreeClassifier\n",
    "dtc_tomek = DecisionTreeClassifier(random_state=0)\n",
    "dtc_tomek.fit(X_resampled_tomek, y_resampled_tomek)\n",
    "\n",
    "y_pred_dtc_tomek = dtc_tomek.predict(X_test)"
   ]
  },
  {
   "cell_type": "code",
   "execution_count": null,
   "metadata": {},
   "outputs": [],
   "source": [
    "print ('Accuracy: ', accuracy_score(y_test, y_pred_dtc_tomek))\n",
    "print ('F1 score: ', f1_score(y_test, y_pred_dtc_tomek))\n",
    "print ('Recall: ', recall_score(y_test, y_pred_dtc_tomek))\n",
    "print ('Precision: ', precision_score(y_test, y_pred_dtc_tomek))\n",
    "print ('\\n clasification report:\\n', classification_report(y_test,y_pred_dtc_tomek))\n",
    "print ('\\n confussion matrix:\\n',confusion_matrix(y_test, y_pred_dtc_tomek))"
   ]
  },
  {
   "cell_type": "code",
   "execution_count": null,
   "metadata": {},
   "outputs": [],
   "source": [
    "# Decision Trees - Random Over-Sampling\n",
    "from sklearn.tree import DecisionTreeClassifier\n",
    "dtc_os = DecisionTreeClassifier(random_state=0)\n",
    "dtc_os.fit(X_resampled_os, y_resampled_os)\n",
    "\n",
    "y_pred_dtc_os = dtc_os.predict(X_test)"
   ]
  },
  {
   "cell_type": "code",
   "execution_count": null,
   "metadata": {},
   "outputs": [],
   "source": [
    "print ('Accuracy: ', accuracy_score(y_test, y_pred_dtc_os))\n",
    "print ('F1 score: ', f1_score(y_test, y_pred_dtc_os))\n",
    "print ('Recall: ', recall_score(y_test, y_pred_dtc_os))\n",
    "print ('Precision: ', precision_score(y_test, y_pred_dtc_os))\n",
    "print ('\\n clasification report:\\n', classification_report(y_test,y_pred_dtc_os))\n",
    "print ('\\n confussion matrix:\\n',confusion_matrix(y_test, y_pred_dtc_os))"
   ]
  },
  {
   "cell_type": "code",
   "execution_count": null,
   "metadata": {},
   "outputs": [],
   "source": [
    "# Decision Trees - SMOTE\n",
    "from sklearn.tree import DecisionTreeClassifier\n",
    "dtc_smt = DecisionTreeClassifier(random_state=0)\n",
    "dtc_smt.fit(X_resampled_smt, y_resampled_smt)\n",
    "\n",
    "y_pred_dtc_smt = dtc_smt.predict(X_test)"
   ]
  },
  {
   "cell_type": "code",
   "execution_count": null,
   "metadata": {},
   "outputs": [],
   "source": [
    "print ('Accuracy: ', accuracy_score(y_test, y_pred_dtc_smt))\n",
    "print ('F1 score: ', f1_score(y_test, y_pred_dtc_smt))\n",
    "print ('Recall: ', recall_score(y_test, y_pred_dtc_smt))\n",
    "print ('Precision: ', precision_score(y_test, y_pred_dtc_smt))\n",
    "print ('\\n clasification report:\\n', classification_report(y_test,y_pred_dtc_smt))\n",
    "print ('\\n confussion matrix:\\n',confusion_matrix(y_test, y_pred_dtc_smt))"
   ]
  },
  {
   "cell_type": "code",
   "execution_count": null,
   "metadata": {},
   "outputs": [],
   "source": [
    "# Decision Trees - ADASYN\n",
    "from sklearn.tree import DecisionTreeClassifier\n",
    "dtc_ada = DecisionTreeClassifier(random_state=0)\n",
    "dtc_ada.fit(X_resampled_ada, y_resampled_ada)\n",
    "\n",
    "y_pred_dtc_ada = dtc_ada.predict(X_test)"
   ]
  },
  {
   "cell_type": "code",
   "execution_count": null,
   "metadata": {},
   "outputs": [],
   "source": [
    "print ('Accuracy: ', accuracy_score(y_test, y_pred_dtc_ada))\n",
    "print ('F1 score: ', f1_score(y_test, y_pred_dtc_ada))\n",
    "print ('Recall: ', recall_score(y_test, y_pred_dtc_ada))\n",
    "print ('Precision: ', precision_score(y_test, y_pred_dtc_ada))\n",
    "print ('\\n clasification report:\\n', classification_report(y_test,y_pred_dtc_ada))\n",
    "print ('\\n confussion matrix:\\n',confusion_matrix(y_test, y_pred_dtc_ada))"
   ]
  },
  {
   "cell_type": "code",
   "execution_count": null,
   "metadata": {},
   "outputs": [],
   "source": [
    "# Decision Trees - SMOTE+TOMEK\n",
    "from sklearn.tree import DecisionTreeClassifier\n",
    "dtc_smt_tmk = DecisionTreeClassifier(random_state=0)\n",
    "dtc_smt_tmk.fit(X_resampled_smt_tmk, y_resampled_smt_tmk)\n",
    "\n",
    "y_pred_dtc_smt_tmk = dtc_smt_tmk.predict(X_test)"
   ]
  },
  {
   "cell_type": "code",
   "execution_count": null,
   "metadata": {},
   "outputs": [],
   "source": [
    "print ('Accuracy: ', accuracy_score(y_test, y_pred_dtc_smt_tmk))\n",
    "print ('F1 score: ', f1_score(y_test, y_pred_dtc_smt_tmk))\n",
    "print ('Recall: ', recall_score(y_test, y_pred_dtc_smt_tmk))\n",
    "print ('Precision: ', precision_score(y_test, y_pred_dtc_smt_tmk))\n",
    "print ('\\n clasification report:\\n', classification_report(y_test,y_pred_dtc_smt_tmk))\n",
    "print ('\\n confussion matrix:\\n',confusion_matrix(y_test, y_pred_dtc_smt_tmk))"
   ]
  },
  {
   "cell_type": "markdown",
   "metadata": {},
   "source": [
    "# Random Forest"
   ]
  },
  {
   "cell_type": "code",
   "execution_count": null,
   "metadata": {},
   "outputs": [],
   "source": [
    "# Random Forest - Base\n",
    "from sklearn.ensemble import RandomForestClassifier\n",
    "rf = RandomForestClassifier()\n",
    "rf.fit(X_train, y_train)\n",
    "\n",
    "y_pred_rf = rf.predict(X_test)"
   ]
  },
  {
   "cell_type": "code",
   "execution_count": null,
   "metadata": {},
   "outputs": [],
   "source": [
    "print ('Accuracy: ', accuracy_score(y_test, y_pred_rf))\n",
    "print ('F1 score: ', f1_score(y_test, y_pred_rf))\n",
    "print ('Recall: ', recall_score(y_test, y_pred_rf))\n",
    "print ('Precision: ', precision_score(y_test, y_pred_rf))\n",
    "print ('\\n clasification report:\\n', classification_report(y_test,y_pred_rf))\n",
    "print ('\\n confussion matrix:\\n',confusion_matrix(y_test, y_pred_rf))"
   ]
  },
  {
   "cell_type": "code",
   "execution_count": null,
   "metadata": {},
   "outputs": [],
   "source": [
    "# Random Forest - Random UnderSampling\n",
    "rf_us = RandomForestClassifier()\n",
    "rf_us.fit(X_resampled_us, y_resampled_us)\n",
    "\n",
    "y_pred_rf_us = rf_us.predict(X_test)"
   ]
  },
  {
   "cell_type": "code",
   "execution_count": null,
   "metadata": {},
   "outputs": [],
   "source": [
    "print ('Accuracy: ', accuracy_score(y_test, y_pred_rf_us))\n",
    "print ('F1 score: ', f1_score(y_test, y_pred_rf_us))\n",
    "print ('Recall: ', recall_score(y_test, y_pred_rf_us))\n",
    "print ('Precision: ', precision_score(y_test, y_pred_rf_us))\n",
    "print ('\\n clasification report:\\n', classification_report(y_test,y_pred_rf_us))\n",
    "print ('\\n confussion matrix:\\n',confusion_matrix(y_test, y_pred_rf_us))"
   ]
  },
  {
   "cell_type": "code",
   "execution_count": null,
   "metadata": {},
   "outputs": [],
   "source": [
    "# Random Forest - Tomek Links\n",
    "rf_tomek = RandomForestClassifier()\n",
    "rf_tomek.fit(X_resampled_tomek, y_resampled_tomek)\n",
    "\n",
    "y_pred_rf_tomek = rf_tomek.predict(X_test)"
   ]
  },
  {
   "cell_type": "code",
   "execution_count": null,
   "metadata": {},
   "outputs": [],
   "source": [
    "print ('Accuracy: ', accuracy_score(y_test, y_pred_rf_tomek))\n",
    "print ('F1 score: ', f1_score(y_test, y_pred_rf_tomek))\n",
    "print ('Recall: ', recall_score(y_test, y_pred_rf_tomek))\n",
    "print ('Precision: ', precision_score(y_test, y_pred_rf_tomek))\n",
    "print ('\\n clasification report:\\n', classification_report(y_test,y_pred_rf_tomek))\n",
    "print ('\\n confussion matrix:\\n',confusion_matrix(y_test, y_pred_rf_tomek))"
   ]
  },
  {
   "cell_type": "code",
   "execution_count": null,
   "metadata": {},
   "outputs": [],
   "source": [
    "# Random Forest - Random Over-Sampling\n",
    "rf_os = RandomForestClassifier()\n",
    "rf_os.fit(X_resampled_os, y_resampled_os)\n",
    "\n",
    "y_pred_rf_os = rf_os.predict(X_test)"
   ]
  },
  {
   "cell_type": "code",
   "execution_count": null,
   "metadata": {},
   "outputs": [],
   "source": [
    "print ('Accuracy: ', accuracy_score(y_test, y_pred_rf_os))\n",
    "print ('F1 score: ', f1_score(y_test, y_pred_rf_os))\n",
    "print ('Recall: ', recall_score(y_test, y_pred_rf_os))\n",
    "print ('Precision: ', precision_score(y_test, y_pred_rf_os))\n",
    "print ('\\n clasification report:\\n', classification_report(y_test,y_pred_rf_os))\n",
    "print ('\\n confussion matrix:\\n',confusion_matrix(y_test, y_pred_rf_os))"
   ]
  },
  {
   "cell_type": "code",
   "execution_count": null,
   "metadata": {},
   "outputs": [],
   "source": [
    "# Random Forest - SMOTE\n",
    "rf_smt = RandomForestClassifier()\n",
    "rf_smt.fit(X_resampled_smt, y_resampled_smt)\n",
    "\n",
    "y_pred_rf_smt = rf_smt.predict(X_test)"
   ]
  },
  {
   "cell_type": "code",
   "execution_count": null,
   "metadata": {},
   "outputs": [],
   "source": [
    "print ('Accuracy: ', accuracy_score(y_test, y_pred_rf_smt))\n",
    "print ('F1 score: ', f1_score(y_test, y_pred_rf_smt))\n",
    "print ('Recall: ', recall_score(y_test, y_pred_rf_smt))\n",
    "print ('Precision: ', precision_score(y_test, y_pred_rf_smt))\n",
    "print ('\\n clasification report:\\n', classification_report(y_test,y_pred_rf_smt))\n",
    "print ('\\n confussion matrix:\\n',confusion_matrix(y_test, y_pred_rf_smt))"
   ]
  },
  {
   "cell_type": "code",
   "execution_count": null,
   "metadata": {},
   "outputs": [],
   "source": [
    "# Random Forest - ADASYN\n",
    "rf_ada = RandomForestClassifier()\n",
    "rf_ada.fit(X_resampled_ada, y_resampled_ada)\n",
    "\n",
    "y_pred_rf_ada = rf_ada.predict(X_test)"
   ]
  },
  {
   "cell_type": "code",
   "execution_count": null,
   "metadata": {},
   "outputs": [],
   "source": [
    "print ('Accuracy: ', accuracy_score(y_test, y_pred_rf_ada))\n",
    "print ('F1 score: ', f1_score(y_test, y_pred_rf_ada))\n",
    "print ('Recall: ', recall_score(y_test, y_pred_rf_ada))\n",
    "print ('Precision: ', precision_score(y_test, y_pred_rf_ada))\n",
    "print ('\\n clasification report:\\n', classification_report(y_test,y_pred_rf_ada))\n",
    "print ('\\n confussion matrix:\\n',confusion_matrix(y_test, y_pred_rf_ada))"
   ]
  },
  {
   "cell_type": "code",
   "execution_count": null,
   "metadata": {},
   "outputs": [],
   "source": [
    "# Random Forest - SMOTE+TOMEK\n",
    "rf_smt_tmk = RandomForestClassifier()\n",
    "rf_smt_tmk.fit(X_resampled_smt_tmk, y_resampled_smt_tmk)\n",
    "\n",
    "y_pred_rf_smt_tmk = rf_smt_tmk.predict(X_test)"
   ]
  },
  {
   "cell_type": "code",
   "execution_count": null,
   "metadata": {},
   "outputs": [],
   "source": [
    "print ('Accuracy: ', accuracy_score(y_test, y_pred_rf_smt_tmk))\n",
    "print ('F1 score: ', f1_score(y_test, y_pred_rf_smt_tmk))\n",
    "print ('Recall: ', recall_score(y_test, y_pred_rf_smt_tmk))\n",
    "print ('Precision: ', precision_score(y_test, y_pred_rf_smt_tmk))\n",
    "print ('\\n clasification report:\\n', classification_report(y_test,y_pred_rf_smt_tmk))\n",
    "print ('\\n confussion matrix:\\n',confusion_matrix(y_test, y_pred_rf_smt_tmk))"
   ]
  },
  {
   "cell_type": "markdown",
   "metadata": {},
   "source": [
    "So we ran three different algorithm with various techniques to handle imbalanced classes. Lets compare the results now. "
   ]
  },
  {
   "attachments": {
    "image.png": {
     "image/png": "[encoded data removed]"
    }
   },
   "cell_type": "markdown",
   "metadata": {},
   "source": [
    "![image.png](attachment:image.png)"
   ]
  },
  {
   "cell_type": "markdown",
   "metadata": {},
   "source": [
    "As we can see above on the summary table, we have recall value highest for Random Forest with random undersampling. We can also notice that recall values of logistic regression for both under and oversamplings are closer to each other. Within logistic regression random undersampling has highest recall. \n",
    "\n",
    "\n",
    "So we will pick up random forest with undersampling method as best performing model. \n",
    "\n",
    "\n",
    "As a next step we do need to further fine tune the model by working on to optimize hyperparameters using grid search/ randomized search. Also, we need to do a 5 or 10 fold cross validation on the training set before finalizing the model."
   ]
  },
  {
   "cell_type": "markdown",
   "metadata": {},
   "source": [
    "# Conclusion\n",
    "\n",
    "Its very important to understand that there is no single methodology which suits all problems.\n",
    "\n",
    "\n",
    "1. As we can see, there are some cases where undersampling methods are performing better than oversampling methods, and in some, oversampling mehtods are performing better than undersampling, but its also important to use multiple methods for feature engineering of the data and then compare results for selecting the best possible method.\n",
    "2. As undersampling methods removes majority class from data - It can be an issue in many cases as we might lose significant information.\n",
    "3. Also, the use of over-sampling methods generates samples from data - It can result in creating irrelevant observations and can also result in overfitting.\n",
    "4. Interpreting and understaning the evaluation metric is important and how these can be used to help solve a business problem in the real world.\n",
    "5. Model evaluation - Do not use accuracy score as a metric. In a dataset with 96% non-claim observations, you will likely make correct prediction 96% of time. Confusion matrix and precision/recall score are better metric."
   ]
  },
  {
   "cell_type": "code",
   "execution_count": null,
   "metadata": {},
   "outputs": [],
   "source": []
  }
 ],
 "metadata": {
  "kernelspec": {
   "display_name": "Python 3 (ipykernel)",
   "language": "python",
   "name": "python3"
  },
  "language_info": {
   "codemirror_mode": {
    "name": "ipython",
    "version": 3
   },
   "file_extension": ".py",
   "mimetype": "text/x-python",
   "name": "python",
   "nbconvert_exporter": "python",
   "pygments_lexer": "ipython3",
   "version": "3.9.7"
  }
 },
 "nbformat": 4,
 "nbformat_minor": 2
}
